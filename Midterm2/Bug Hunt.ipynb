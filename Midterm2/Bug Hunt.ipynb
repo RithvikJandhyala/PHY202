{
 "cells": [
  {
   "cell_type": "code",
   "execution_count": 3,
   "id": "6ed8c3e0",
   "metadata": {},
   "outputs": [
    {
     "name": "stdout",
     "output_type": "stream",
     "text": [
      "[0, 1, 3, 6, 10]\n"
     ]
    }
   ],
   "source": [
    "import math\n",
    "\n",
    "def countdown():\n",
    "    \"\"\"Returns a list with numbers counting down from 10 to 0\"\"\"\n",
    "    last = 0\n",
    "    count = 10\n",
    "    numbers = []\n",
    "    while count >= last:\n",
    "        numbers.append(count)\n",
    "        count -= 1\n",
    "    return numbers\n",
    "\n",
    "def Y20(theta, phi):\n",
    "    \"\"\"Spherical harmonic Y20 for l=2, m=0 for angles theta and phi.\n",
    "\n",
    "    See e.g. https://mathworld.wolfram.com/SphericalHarmonic.html Eq. 24\n",
    "    \"\"\"\n",
    "    return 0.25 * math.sqrt(5/math.pi) * (3 * math.cos(theta)**2 - 1)\n",
    "\n",
    "\n",
    "def jacobsladder(top):\n",
    "    \"\"\"Returns a list with numbers with increasing step size up to 'top'.\n",
    "\n",
    "    The ladder starts at 0 and the stepsizes increase by 1 for each\n",
    "    step, starting with stepsize 1.  For example, for top = 10 you\n",
    "    should get\n",
    "\n",
    "       [0, 1, 3, 6, 10]\n",
    "\n",
    "    \"\"\"\n",
    "    x = 0\n",
    "    step = 0\n",
    "    numbers = []\n",
    "    while x <= top:\n",
    "        numbers.append(x)\n",
    "        step += 1\n",
    "        x += step\n",
    "    \n",
    "    return numbers\n",
    "    \n",
    "    \n",
    "print(jacobsladder(10))"
   ]
  },
  {
   "cell_type": "code",
   "execution_count": null,
   "id": "f26ce341",
   "metadata": {},
   "outputs": [],
   "source": []
  }
 ],
 "metadata": {
  "kernelspec": {
   "display_name": "Python 3 (ipykernel)",
   "language": "python",
   "name": "python3"
  },
  "language_info": {
   "codemirror_mode": {
    "name": "ipython",
    "version": 3
   },
   "file_extension": ".py",
   "mimetype": "text/x-python",
   "name": "python",
   "nbconvert_exporter": "python",
   "pygments_lexer": "ipython3",
   "version": "3.9.7"
  }
 },
 "nbformat": 4,
 "nbformat_minor": 5
}

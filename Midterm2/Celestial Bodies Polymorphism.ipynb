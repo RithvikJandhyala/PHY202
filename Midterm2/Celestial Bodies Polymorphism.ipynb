{
 "cells": [
  {
   "cell_type": "code",
   "execution_count": 1,
   "id": "31b17621",
   "metadata": {},
   "outputs": [],
   "source": [
    "import math\n",
    "import numpy as np"
   ]
  },
  {
   "cell_type": "code",
   "execution_count": 2,
   "id": "9f336b4b",
   "metadata": {},
   "outputs": [],
   "source": [
    "class CelestialBody:\n",
    "    def __init__(self,name,position,mass,radius):\n",
    "        self.name = name\n",
    "        self.position = position\n",
    "        self.mass = mass\n",
    "        self.radius = radius\n",
    "    def volume(self):\n",
    "        return (4*math.pi/3)*self.radius**3\n",
    "    def density(self):\n",
    "        return self.mass/((4*math.pi/3)*self.radius**3)\n",
    "    def delta_r(self,other):\n",
    "        return other.position - self.position\n",
    "    def distance(self,other):\n",
    "        distvec = other.position - self.position\n",
    "        dist = math.sqrt(distvec[0]**2 + distvec[1]**2 + distvec[2]**2)\n",
    "        return dist"
   ]
  },
  {
   "cell_type": "code",
   "execution_count": 3,
   "id": "de24e356",
   "metadata": {},
   "outputs": [],
   "source": [
    "class Planet(CelestialBody):\n",
    "    def __init__(self,name,position,mass,radius):\n",
    "        CelestialBody.__init__(self,name,position,mass,radius)"
   ]
  },
  {
   "cell_type": "code",
   "execution_count": 4,
   "id": "b0980e36",
   "metadata": {},
   "outputs": [],
   "source": [
    "class Moon(CelestialBody):\n",
    "    def __init__(self,name,position,mass,radius,parent):\n",
    "        CelestialBody.__init__(self,name,position,mass,radius)\n",
    "        self.parent = parent"
   ]
  },
  {
   "cell_type": "code",
   "execution_count": 5,
   "id": "c1b15bc8",
   "metadata": {},
   "outputs": [],
   "source": [
    "if __name__ == \"__main__\":\n",
    "    # create your objects here\n",
    "\n",
    "\n",
    "    earth = Planet(\"Earth\",\n",
    "                   np.array([9.978977040419635E-01, 6.586825681892025E-02, -6.320430920521123E-06]),\n",
    "                   5.97219e24,\n",
    "                   6371.01)\n",
    "\n",
    "    luna = Moon(\"Luna\",\n",
    "                np.array([9.956768547953816E-01, 6.676030485840675E-02, 1.641093070596718E-04]),\n",
    "                7.349e22,\n",
    "                1737.53,\n",
    "                earth)\n",
    "\n",
    "    # add mars, phobos, deimos here\n",
    "    mars = Planet(\"Mars\",\n",
    "                np.array([-1.638989837611019E+00, 2.909235766064876E-01, 4.607875056151672E-02]),\n",
    "                6.4171e23,\n",
    "                3389.92)\n",
    "    deimos = Moon(\"Deimos\",\n",
    "                np.array([-1.638943766241257E+00,\t2.907775944863155E-01,\t4.604465570526414E-02]),\n",
    "                1.80e20,\n",
    "                2.9,\n",
    "                mars)\n",
    "    phobos = Moon(\"Phobos\",\n",
    "                np.array([-1.638995094538730E+00,\t2.909862261134459E-01,\t4.608601582090829E-02]),\n",
    "                1.08e20,\n",
    "                2.4,\n",
    "                mars)\n",
    "\n"
   ]
  },
  {
   "cell_type": "code",
   "execution_count": 7,
   "id": "a525e29b",
   "metadata": {},
   "outputs": [
    {
     "name": "stdout",
     "output_type": "stream",
     "text": [
      "Luna\n",
      "0.0023993681202315142\n",
      "[-2.63688754  0.22505532  0.04608507]\n",
      "1.8650969893581489e+18\n",
      "1.7619350787162962e+18\n"
     ]
    }
   ],
   "source": [
    "print(luna.name)\n",
    "print(luna.distance(luna.parent))\n",
    "\n",
    "print(earth.delta_r(mars))\n",
    "print(phobos.density())\n",
    "print(deimos.density())"
   ]
  },
  {
   "cell_type": "code",
   "execution_count": null,
   "id": "02d77eea",
   "metadata": {},
   "outputs": [],
   "source": []
  }
 ],
 "metadata": {
  "kernelspec": {
   "display_name": "Python 3 (ipykernel)",
   "language": "python",
   "name": "python3"
  },
  "language_info": {
   "codemirror_mode": {
    "name": "ipython",
    "version": 3
   },
   "file_extension": ".py",
   "mimetype": "text/x-python",
   "name": "python",
   "nbconvert_exporter": "python",
   "pygments_lexer": "ipython3",
   "version": "3.9.7"
  }
 },
 "nbformat": 4,
 "nbformat_minor": 5
}

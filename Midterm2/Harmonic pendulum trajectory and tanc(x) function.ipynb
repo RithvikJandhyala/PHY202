{
 "cells": [
  {
   "cell_type": "code",
   "execution_count": 1,
   "id": "7d9b90fc",
   "metadata": {},
   "outputs": [],
   "source": [
    "import math\n",
    "import numpy as np"
   ]
  },
  {
   "cell_type": "code",
   "execution_count": 2,
   "id": "8e806da9",
   "metadata": {},
   "outputs": [
    {
     "name": "stdout",
     "output_type": "stream",
     "text": [
      "[ 0.28945532 -0.04751551 -0.29880892]\n"
     ]
    }
   ],
   "source": [
    "def tanc(x):\n",
    "    if np.any(x == 0):\n",
    "        if type(x) is int:\n",
    "            return 1\n",
    "        else:\n",
    "            new = np.array([])\n",
    "            for i in range(len(x)):\n",
    "                if x[i] == 0:\n",
    "                    new = np.append(new,1)\n",
    "                else:\n",
    "                    new = np.append(new,math.tan(x[i])/x[i])\n",
    "            return new\n",
    "    else:\n",
    "        return np.tan(x)/x\n",
    "print(tanc(np.array([4,3,2.5])))"
   ]
  },
  {
   "cell_type": "code",
   "execution_count": 3,
   "id": "568b6517",
   "metadata": {},
   "outputs": [],
   "source": [
    "def theta(t,omega,theta0 = math.pi/6,Omega0 = 0):\n",
    "    \"\"\"calculates the angle in harmonic motion using an array of time, an omega value, an inital theta value, and an initial omega value\"\"\" \n",
    "    A = math.sqrt(theta0**2 + (Omega0/omega)**2)\n",
    "    phi = -math.atan((Omega0/omega)/theta0)\n",
    "    return A*np.cos(omega*t + phi)"
   ]
  },
  {
   "cell_type": "code",
   "execution_count": null,
   "id": "41ba6a39",
   "metadata": {},
   "outputs": [],
   "source": []
  }
 ],
 "metadata": {
  "kernelspec": {
   "display_name": "Python 3 (ipykernel)",
   "language": "python",
   "name": "python3"
  },
  "language_info": {
   "codemirror_mode": {
    "name": "ipython",
    "version": 3
   },
   "file_extension": ".py",
   "mimetype": "text/x-python",
   "name": "python",
   "nbconvert_exporter": "python",
   "pygments_lexer": "ipython3",
   "version": "3.9.7"
  }
 },
 "nbformat": 4,
 "nbformat_minor": 5
}

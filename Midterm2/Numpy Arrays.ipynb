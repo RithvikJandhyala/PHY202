{
 "cells": [
  {
   "cell_type": "code",
   "execution_count": 1,
   "id": "8e9082b8",
   "metadata": {},
   "outputs": [
    {
     "name": "stdout",
     "output_type": "stream",
     "text": [
      "[[-300  400]\n",
      " [  30  -40]\n",
      " [   3    4]]\n",
      "[-27000 -64000]\n"
     ]
    }
   ],
   "source": [
    "import numpy as np\n",
    "import math\n",
    "\n",
    "# Array Creation\n",
    "\n",
    "# 1.\n",
    "fibo = np.array([ 0, 1, 1, 2, 3, 5])\n",
    "\n",
    "# 2.\n",
    "a = np.arange(1,61).reshape(4,3,5)\n",
    "\n",
    "# 3.\n",
    "b = np.linspace(-5*math.pi, 5*math.pi,100)\n",
    "\n",
    "# 4.\n",
    "c = 10.0**np.arange(-15,16)\n",
    "\n",
    "\n",
    "# Working with arrays\n",
    "# r array\n",
    "r = np.linspace(0, 10, num=30)\n",
    "\n",
    "r1 = r/2\n",
    "r2 = np.array([])\n",
    "for i in range(len(r)-1):\n",
    "    n = ((4*math.pi)/3)*r[i+1]**3 - ((4*math.pi)/3)*r[i]**3\n",
    "    r2 = np.append(r2,n)\n",
    "\n",
    "# q array\n",
    "q = np.array([\n",
    "    [-100, 200, -300, 400],\n",
    "    [10, -20, 30, -40],\n",
    "    [1, 2, 3, 4]])\n",
    "    \n",
    "q1 = np.sum(q,axis = 1)\n",
    "\n",
    "q2 = np.sum(np.delete(q,[3],1),axis = 0)\n",
    "\n",
    "q3 = np.amin(q)\n",
    "q4 = np.amin(q,axis = 1)\n",
    "q5 = np.mean( np.delete(np.delete(q,[1,2],0), [2,3],1))\n",
    "q6 = np.prod(np.delete(q,[0,1],1),axis = 0)\n",
    "print(np.delete(q,[0,1],1))\n",
    "print(q6)\n",
    "q7 = np.log(abs(q))\n",
    "q8 = np.transpose(q)\n",
    "\n"
   ]
  },
  {
   "cell_type": "code",
   "execution_count": null,
   "id": "7d88fdaf",
   "metadata": {},
   "outputs": [],
   "source": []
  }
 ],
 "metadata": {
  "kernelspec": {
   "display_name": "Python 3 (ipykernel)",
   "language": "python",
   "name": "python3"
  },
  "language_info": {
   "codemirror_mode": {
    "name": "ipython",
    "version": 3
   },
   "file_extension": ".py",
   "mimetype": "text/x-python",
   "name": "python",
   "nbconvert_exporter": "python",
   "pygments_lexer": "ipython3",
   "version": "3.9.7"
  }
 },
 "nbformat": 4,
 "nbformat_minor": 5
}

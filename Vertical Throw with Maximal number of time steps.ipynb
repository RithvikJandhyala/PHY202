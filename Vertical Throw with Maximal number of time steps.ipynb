{
 "cells": [
  {
   "cell_type": "code",
   "execution_count": 1,
   "id": "be3bd20c",
   "metadata": {},
   "outputs": [
    {
     "name": "stdout",
     "output_type": "stream",
     "text": [
      "Computed Positions: 32\n"
     ]
    }
   ],
   "source": [
    "#parameters\n",
    "y_ground = 0\n",
    "y0 = 2.\n",
    "v0 = 15.\n",
    "g = 9.81\n",
    "\n",
    "y_values = []\n",
    "t_values = []\n",
    "\n",
    "#initial conditions\n",
    "t = 0\n",
    "y = y0\n",
    "\n",
    "dt = 0.1 #change in seconds\n",
    "Nsteps = 100\n",
    "\n",
    "for i in range(Nsteps):\n",
    "    t = i*dt\n",
    "    y = -0.5*g*t**2 + v0*t + y0\n",
    "    if y < y_ground:\n",
    "        break\n",
    "    y_values.append(y)\n",
    "    t_values.append(t)\n",
    "print(\"Computed Positions:\",len(y_values))"
   ]
  },
  {
   "cell_type": "code",
   "execution_count": 2,
   "id": "adc2743c",
   "metadata": {},
   "outputs": [],
   "source": [
    "import matplotlib.pyplot as plt\n",
    "%matplotlib inline"
   ]
  },
  {
   "cell_type": "code",
   "execution_count": 3,
   "id": "5a450d6e",
   "metadata": {},
   "outputs": [
    {
     "data": {
      "text/plain": [
       "Text(0, 0.5, 'y position')"
      ]
     },
     "execution_count": 3,
     "metadata": {},
     "output_type": "execute_result"
    },
    {
     "data": {
      "image/png": "[encoded data removed]",
      "text/plain": [
       "<Figure size 432x288 with 1 Axes>"
      ]
     },
     "metadata": {
      "needs_background": "light"
     },
     "output_type": "display_data"
    }
   ],
   "source": [
    "plt.plot(t_values,y_values,'o-')\n",
    "plt.xlabel(\"t values\")\n",
    "plt.ylabel(\"y position\")"
   ]
  },
  {
   "cell_type": "code",
   "execution_count": null,
   "id": "f843bc75",
   "metadata": {},
   "outputs": [],
   "source": []
  }
 ],
 "metadata": {
  "kernelspec": {
   "display_name": "Python 3 (ipykernel)",
   "language": "python",
   "name": "python3"
  },
  "language_info": {
   "codemirror_mode": {
    "name": "ipython",
    "version": 3
   },
   "file_extension": ".py",
   "mimetype": "text/x-python",
   "name": "python",
   "nbconvert_exporter": "python",
   "pygments_lexer": "ipython3",
   "version": "3.9.7"
  }
 },
 "nbformat": 4,
 "nbformat_minor": 5
}

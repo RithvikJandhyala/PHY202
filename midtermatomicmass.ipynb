{
 "cells": [
  {
   "cell_type": "code",
   "execution_count": 1,
   "id": "fa03a8d4",
   "metadata": {},
   "outputs": [],
   "source": [
    "masses = {\n",
    "    'H':1.0079,\n",
    "    'C':12.011,\n",
    "    'N':14.007,\n",
    "    'O':15.999,\n",
    "    'S':32.06,\n",
    "    'Cl':35.45,\n",
    "    'Fe':55.845,\n",
    "    'Og':294    \n",
    "}\n"
   ]
  },
  {
   "cell_type": "code",
   "execution_count": 10,
   "id": "57aab660",
   "metadata": {},
   "outputs": [],
   "source": [
    "formula = []"
   ]
  },
  {
   "cell_type": "code",
   "execution_count": 12,
   "id": "a2d1af80",
   "metadata": {},
   "outputs": [
    {
     "name": "stdout",
     "output_type": "stream",
     "text": [
      "H 2\n",
      "O 1\n",
      "\n"
     ]
    }
   ],
   "source": [
    "for i in range(6):\n",
    "    list1 = input()\n",
    "    if not list1:\n",
    "        break\n",
    "    formula.append(list1.split())"
   ]
  },
  {
   "cell_type": "code",
   "execution_count": 15,
   "id": "3c10e29e",
   "metadata": {},
   "outputs": [
    {
     "name": "stdout",
     "output_type": "stream",
     "text": [
      "[['H', 2], ['O', 1]]\n"
     ]
    }
   ],
   "source": [
    "print(formula)"
   ]
  },
  {
   "cell_type": "code",
   "execution_count": 14,
   "id": "1694da07",
   "metadata": {},
   "outputs": [],
   "source": [
    "for i in range(len(formula)):\n",
    "    formula[i][1] = int(formula[i][1])"
   ]
  },
  {
   "cell_type": "code",
   "execution_count": 17,
   "id": "7e91bcfd",
   "metadata": {},
   "outputs": [
    {
     "name": "stdout",
     "output_type": "stream",
     "text": [
      "H2O\n"
     ]
    }
   ],
   "source": [
    "for i in range(len(formula)):\n",
    "    if int(formula[i][1]) == 1:\n",
    "        print(formula[i][0],end = '')\n",
    "    else:\n",
    "        print(formula[i][0],end = '')\n",
    "        print(formula[i][1],end = '')\n",
    "print()"
   ]
  },
  {
   "cell_type": "code",
   "execution_count": 18,
   "id": "98c876e0",
   "metadata": {},
   "outputs": [],
   "source": [
    "mass = 0"
   ]
  },
  {
   "cell_type": "code",
   "execution_count": 20,
   "id": "6c2f3247",
   "metadata": {},
   "outputs": [],
   "source": [
    "for i in range(len(formula)):\n",
    "    mass += masses.get(formula[i][0])*formula[i][1]"
   ]
  },
  {
   "cell_type": "code",
   "execution_count": 21,
   "id": "732ba00a",
   "metadata": {},
   "outputs": [
    {
     "data": {
      "text/plain": [
       "18.0148"
      ]
     },
     "execution_count": 21,
     "metadata": {},
     "output_type": "execute_result"
    }
   ],
   "source": [
    "mass"
   ]
  },
  {
   "cell_type": "code",
   "execution_count": null,
   "id": "4ca14bcf",
   "metadata": {},
   "outputs": [],
   "source": []
  }
 ],
 "metadata": {
  "kernelspec": {
   "display_name": "Python 3 (ipykernel)",
   "language": "python",
   "name": "python3"
  },
  "language_info": {
   "codemirror_mode": {
    "name": "ipython",
    "version": 3
   },
   "file_extension": ".py",
   "mimetype": "text/x-python",
   "name": "python",
   "nbconvert_exporter": "python",
   "pygments_lexer": "ipython3",
   "version": "3.9.7"
  }
 },
 "nbformat": 4,
 "nbformat_minor": 5
}

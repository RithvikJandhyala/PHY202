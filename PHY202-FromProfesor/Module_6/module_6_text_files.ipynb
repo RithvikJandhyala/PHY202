{
 "cells": [
  {
   "cell_type": "markdown",
   "metadata": {
    "slideshow": {
     "slide_type": "slide"
    }
   },
   "source": [
    "# Module 6: Working with text and files "
   ]
  },
  {
   "cell_type": "markdown",
   "metadata": {
    "slideshow": {
     "slide_type": "fragment"
    }
   },
   "source": [
    "In Python, *text* is stored in strings. We learned about strings (`str`) earlier.  \n",
    "\n",
    "By **text** we mean sequences of characters that make sense to a human. (There are also **binary** files such as executable programs that need to be read by a computer program.)"
   ]
  },
  {
   "cell_type": "markdown",
   "metadata": {
    "slideshow": {
     "slide_type": "subslide"
    }
   },
   "source": [
    "## Text example: ROT13 encryption\n",
    "The definition of \"human-readable\" stretches pretty far: It can also mean encrypted text where we need to know to decrypt. For example, the [rot13 cipher](https://en.wikipedia.org/wiki/ROT13)\n",
    "\n",
    "![rot13 algorithm](https://www.tutorialspoint.com/cryptography_with_python/images/rot.jpg)\n",
    "(Source: https://www.tutorialspoint.com/cryptography_with_python/cryptography_with_python_rot13_algorithm.htm)\n"
   ]
  },
  {
   "cell_type": "markdown",
   "metadata": {
    "slideshow": {
     "slide_type": "subslide"
    }
   },
   "source": [
    "We can implement the ROT13 algorithm with the help of two string methods\n",
    "- [`str.maketrans()`](https://docs.python.org/3/library/stdtypes.html#str.maketrans) generates a translation table (note we are using a \"static\" method of the `str` class!)\n",
    "- [`s.translate()`](https://docs.python.org/3/library/stdtypes.html#str.translate) applies the translation table\n",
    "\n",
    "We use it to (badly) encrypt a sentence about Albert Einstein's [annus mirabilis](https://en.wikipedia.org/wiki/Annus_Mirabilis_papers):"
   ]
  },
  {
   "cell_type": "code",
   "execution_count": 1,
   "metadata": {},
   "outputs": [
    {
     "name": "stdout",
     "output_type": "stream",
     "text": [
      "Gur lrne 1905 jnf Rvafgrva'f Naahf Zvenovyvf.\n"
     ]
    }
   ],
   "source": [
    "# code based on https://www.tutorialspoint.com/cryptography_with_python/cryptography_with_python_rot13_algorithm.htm\n",
    "\n",
    "rot13trans = str.maketrans(\n",
    "    'ABCDEFGHIJKLMNOPQRSTUVWXYZabcdefghijklmnopqrstuvwxyz',\n",
    "    'NOPQRSTUVWXYZABCDEFGHIJKLMnopqrstuvwxyzabcdefghijklm')\n",
    "\n",
    "def rot13(s):\n",
    "    \"\"\"Encrypt letters in string `s` with ROT13.\"\"\"\n",
    "    return s.translate(rot13trans)\n",
    "\n",
    "\n",
    "txt = \"The year 1905 was Einstein's Annus Mirabilis.\"\n",
    "crypt_txt = rot13(txt)\n",
    "print(crypt_txt)"
   ]
  },
  {
   "cell_type": "code",
   "execution_count": 2,
   "metadata": {
    "slideshow": {
     "slide_type": "subslide"
    }
   },
   "outputs": [
    {
     "data": {
      "text/plain": [
       "{65: 78,\n",
       " 66: 79,\n",
       " 67: 80,\n",
       " 68: 81,\n",
       " 69: 82,\n",
       " 70: 83,\n",
       " 71: 84,\n",
       " 72: 85,\n",
       " 73: 86,\n",
       " 74: 87,\n",
       " 75: 88,\n",
       " 76: 89,\n",
       " 77: 90,\n",
       " 78: 65,\n",
       " 79: 66,\n",
       " 80: 67,\n",
       " 81: 68,\n",
       " 82: 69,\n",
       " 83: 70,\n",
       " 84: 71,\n",
       " 85: 72,\n",
       " 86: 73,\n",
       " 87: 74,\n",
       " 88: 75,\n",
       " 89: 76,\n",
       " 90: 77,\n",
       " 97: 110,\n",
       " 98: 111,\n",
       " 99: 112,\n",
       " 100: 113,\n",
       " 101: 114,\n",
       " 102: 115,\n",
       " 103: 116,\n",
       " 104: 117,\n",
       " 105: 118,\n",
       " 106: 119,\n",
       " 107: 120,\n",
       " 108: 121,\n",
       " 109: 122,\n",
       " 110: 97,\n",
       " 111: 98,\n",
       " 112: 99,\n",
       " 113: 100,\n",
       " 114: 101,\n",
       " 115: 102,\n",
       " 116: 103,\n",
       " 117: 104,\n",
       " 118: 105,\n",
       " 119: 106,\n",
       " 120: 107,\n",
       " 121: 108,\n",
       " 122: 109}"
      ]
     },
     "execution_count": 2,
     "metadata": {},
     "output_type": "execute_result"
    }
   ],
   "source": [
    "rot13trans"
   ]
  },
  {
   "cell_type": "markdown",
   "metadata": {
    "slideshow": {
     "slide_type": "subslide"
    }
   },
   "source": [
    "By the way, how do we decode a rot13-string?"
   ]
  },
  {
   "cell_type": "markdown",
   "metadata": {
    "slideshow": {
     "slide_type": "fragment"
    }
   },
   "source": [
    "ROT13 shifts by 13. There are 26 letters in the (English/Latin) alphabet, thus shifting a second time gives the original:\n",
    "```\n",
    "s = rot13(rot13(s))\n",
    "```"
   ]
  },
  {
   "cell_type": "code",
   "execution_count": 3,
   "metadata": {
    "slideshow": {
     "slide_type": "fragment"
    }
   },
   "outputs": [
    {
     "data": {
      "text/plain": [
       "\"The year 1905 was Einstein's Annus Mirabilis.\""
      ]
     },
     "execution_count": 3,
     "metadata": {},
     "output_type": "execute_result"
    }
   ],
   "source": [
    "rot13(crypt_txt)"
   ]
  },
  {
   "cell_type": "markdown",
   "metadata": {
    "slideshow": {
     "slide_type": "fragment"
    }
   },
   "source": [
    "(By the way, ROT13 is a very, _very_ weak encryption algorithm...)"
   ]
  },
  {
   "cell_type": "markdown",
   "metadata": {
    "slideshow": {
     "slide_type": "slide"
    }
   },
   "source": [
    "## Processing data"
   ]
  },
  {
   "cell_type": "markdown",
   "metadata": {},
   "source": [
    "data input \n",
    "* files\n",
    "* streams (sensor data, internet feed, ...)\n",
    "* user input \n",
    "   * `input()` (rare in practice) \n",
    "   * command line arguments"
   ]
  },
  {
   "cell_type": "markdown",
   "metadata": {
    "slideshow": {
     "slide_type": "subslide"
    }
   },
   "source": [
    "### commonly used data processing pattern\n",
    "\n",
    "0. filter lines (e.g., drop comments)\n",
    "1. strip leading/trailing whitespace\n",
    "2. parse: split on separator\n",
    "3. cast to number (or other data type)"
   ]
  },
  {
   "cell_type": "markdown",
   "metadata": {
    "slideshow": {
     "slide_type": "subslide"
    }
   },
   "source": [
    "### Example data "
   ]
  },
  {
   "cell_type": "code",
   "execution_count": 4,
   "metadata": {},
   "outputs": [],
   "source": [
    "data = [\n",
    "    \"# test data\\n\",\n",
    "    \"# date: 2019-09-26\\n\",\n",
    "    \"@ x y z name\\n\",\n",
    "    \"0.3 0.4 -0.001 Alice         \\n\",\n",
    "    \"   1.3e-2    0.456   0  Bob  \\n\",\n",
    "    \"0.99e-2   -0.34 0.04    Alice\\n\",\n",
    "]"
   ]
  },
  {
   "cell_type": "code",
   "execution_count": 5,
   "metadata": {
    "slideshow": {
     "slide_type": "fragment"
    }
   },
   "outputs": [
    {
     "data": {
      "text/plain": [
       "['# test data\\n',\n",
       " '# date: 2019-09-26\\n',\n",
       " '@ x y z name\\n',\n",
       " '0.3 0.4 -0.001 Alice         \\n',\n",
       " '   1.3e-2    0.456   0  Bob  \\n',\n",
       " '0.99e-2   -0.34 0.04    Alice\\n']"
      ]
     },
     "execution_count": 5,
     "metadata": {},
     "output_type": "execute_result"
    }
   ],
   "source": [
    "data"
   ]
  },
  {
   "cell_type": "code",
   "execution_count": 6,
   "metadata": {
    "slideshow": {
     "slide_type": "subslide"
    }
   },
   "outputs": [
    {
     "data": {
      "text/plain": [
       "'# test data\\n# date: 2019-09-26\\n@ x y z name\\n0.3 0.4 -0.001 Alice         \\n   1.3e-2    0.456   0  Bob  \\n0.99e-2   -0.34 0.04    Alice\\n'"
      ]
     },
     "execution_count": 6,
     "metadata": {},
     "output_type": "execute_result"
    }
   ],
   "source": [
    "\"\".join(data)"
   ]
  },
  {
   "cell_type": "code",
   "execution_count": 7,
   "metadata": {
    "slideshow": {
     "slide_type": "fragment"
    }
   },
   "outputs": [
    {
     "name": "stdout",
     "output_type": "stream",
     "text": [
      "# test data\n",
      "# date: 2019-09-26\n",
      "@ x y z name\n",
      "0.3 0.4 -0.001 Alice         \n",
      "   1.3e-2    0.456   0  Bob  \n",
      "0.99e-2   -0.34 0.04    Alice\n",
      "\n"
     ]
    }
   ],
   "source": [
    "print(\"\".join(data))"
   ]
  },
  {
   "cell_type": "markdown",
   "metadata": {
    "slideshow": {
     "slide_type": "subslide"
    }
   },
   "source": [
    "### Line-by-line processing "
   ]
  },
  {
   "cell_type": "markdown",
   "metadata": {},
   "source": [
    "Show every line: **raw data**"
   ]
  },
  {
   "cell_type": "code",
   "execution_count": 8,
   "metadata": {},
   "outputs": [
    {
     "name": "stdout",
     "output_type": "stream",
     "text": [
      "# test data\n",
      "\n",
      "# date: 2019-09-26\n",
      "\n",
      "@ x y z name\n",
      "\n",
      "0.3 0.4 -0.001 Alice         \n",
      "\n",
      "   1.3e-2    0.456   0  Bob  \n",
      "\n",
      "0.99e-2   -0.34 0.04    Alice\n",
      "\n"
     ]
    }
   ],
   "source": [
    "for line in data:\n",
    "    print(line)"
   ]
  },
  {
   "cell_type": "markdown",
   "metadata": {
    "slideshow": {
     "slide_type": "subslide"
    }
   },
   "source": [
    "#### Whitespace trimming\n",
    "\n",
    "Remove leading *and* trailing whitespace (space, newlines, tabs) with [`s.strip()`](https://docs.python.org/3/library/stdtypes.html#str.strip):"
   ]
  },
  {
   "cell_type": "code",
   "execution_count": 9,
   "metadata": {},
   "outputs": [
    {
     "name": "stdout",
     "output_type": "stream",
     "text": [
      "# test data\n",
      "# date: 2019-09-26\n",
      "@ x y z name\n",
      "0.3 0.4 -0.001 Alice\n",
      "1.3e-2    0.456   0  Bob\n",
      "0.99e-2   -0.34 0.04    Alice\n"
     ]
    }
   ],
   "source": [
    "for line in data:\n",
    "    line = line.strip()\n",
    "    print(line)"
   ]
  },
  {
   "cell_type": "markdown",
   "metadata": {
    "slideshow": {
     "slide_type": "subslide"
    }
   },
   "source": [
    "#### Data cleaning\n",
    "\n",
    "Remove non-data lines (can be much more complicate... depends on data). "
   ]
  },
  {
   "cell_type": "code",
   "execution_count": 10,
   "metadata": {},
   "outputs": [
    {
     "name": "stdout",
     "output_type": "stream",
     "text": [
      "0.3 0.4 -0.001 Alice\n",
      "1.3e-2    0.456   0  Bob\n",
      "0.99e-2   -0.34 0.04    Alice\n"
     ]
    }
   ],
   "source": [
    "for line in data:\n",
    "    line = line.strip()\n",
    "    if line.startswith((\"#\", \"@\")):\n",
    "        continue\n",
    "    print(line)"
   ]
  },
  {
   "cell_type": "markdown",
   "metadata": {
    "slideshow": {
     "slide_type": "fragment"
    }
   },
   "source": [
    "[`s.startswith()`](https://docs.python.org/3/library/stdtypes.html#str.startswith) is very useful but you might need to write more specialized code)."
   ]
  },
  {
   "cell_type": "markdown",
   "metadata": {
    "slideshow": {
     "slide_type": "subslide"
    }
   },
   "source": [
    "#### Parsing\n",
    "\n",
    "Depends on the format of the file. Often uses [`s.split()`](https://docs.python.org/3/library/stdtypes.html#str.split)."
   ]
  },
  {
   "cell_type": "code",
   "execution_count": 11,
   "metadata": {},
   "outputs": [
    {
     "name": "stdout",
     "output_type": "stream",
     "text": [
      "['0.3', '0.4', '-0.001', 'Alice']\n",
      "['1.3e-2', '0.456', '0', 'Bob']\n",
      "['0.99e-2', '-0.34', '0.04', 'Alice']\n"
     ]
    }
   ],
   "source": [
    "for line in data:\n",
    "    line = line.strip()\n",
    "    if line.startswith((\"#\", \"@\")):\n",
    "        continue\n",
    "    values = line.split()\n",
    "    print(values)"
   ]
  },
  {
   "cell_type": "markdown",
   "metadata": {
    "slideshow": {
     "slide_type": "fragment"
    }
   },
   "source": [
    "Capturing the values in a list is common practice and makes this approach flexible."
   ]
  },
  {
   "cell_type": "markdown",
   "metadata": {
    "slideshow": {
     "slide_type": "subslide"
    }
   },
   "source": [
    "One could also directly use tuple assignment to immediately assign to variables:"
   ]
  },
  {
   "cell_type": "code",
   "execution_count": 12,
   "metadata": {},
   "outputs": [
    {
     "name": "stdout",
     "output_type": "stream",
     "text": [
      "Alice: x=0.3 y=0.4 z=-0.001\n",
      "Bob: x=1.3e-2 y=0.456 z=0\n",
      "Alice: x=0.99e-2 y=-0.34 z=0.04\n"
     ]
    }
   ],
   "source": [
    "for line in data:\n",
    "    line = line.strip()\n",
    "    if line.startswith((\"#\", \"@\")):\n",
    "        continue\n",
    "    x, y, z, name = line.split()\n",
    "    print(\"{name}: x={x} y={y} z={z}\".format(x=x, y=y, z=z, name=name))"
   ]
  },
  {
   "cell_type": "markdown",
   "metadata": {
    "slideshow": {
     "slide_type": "subslide"
    }
   },
   "source": [
    "#### Type conversion\n",
    "\n",
    "- What Python datatypes do you need? \n",
    "- In what data structures do you want to keep them?"
   ]
  },
  {
   "cell_type": "markdown",
   "metadata": {
    "slideshow": {
     "slide_type": "subslide"
    }
   },
   "source": [
    "Here: Two lists: `names` and `positions`.\n",
    "* keep names as str\n",
    "* convert strings written as numbers to floats "
   ]
  },
  {
   "cell_type": "code",
   "execution_count": 13,
   "metadata": {
    "slideshow": {
     "slide_type": "fragment"
    }
   },
   "outputs": [
    {
     "name": "stdout",
     "output_type": "stream",
     "text": [
      "['Alice', 'Bob', 'Alice']\n",
      "[[0.3, 0.4, -0.001], [0.013, 0.456, 0.0], [0.0099, -0.34, 0.04]]\n"
     ]
    }
   ],
   "source": [
    "names = []\n",
    "positions = []\n",
    "for line in data:\n",
    "    line = line.strip()\n",
    "    if line.startswith((\"#\", \"@\")):\n",
    "        continue\n",
    "    values = line.split()\n",
    "    names.append(values[-1])\n",
    "    x, y, z = values[:3]\n",
    "    positions.append([float(x), float(y), float(z)])\n",
    "\n",
    "print(names)\n",
    "print(positions)"
   ]
  },
  {
   "cell_type": "markdown",
   "metadata": {
    "slideshow": {
     "slide_type": "subslide"
    }
   },
   "source": [
    "Better: use **numpy arrays**"
   ]
  },
  {
   "cell_type": "code",
   "execution_count": 15,
   "metadata": {},
   "outputs": [],
   "source": [
    "import numpy as np"
   ]
  },
  {
   "cell_type": "code",
   "execution_count": 16,
   "metadata": {},
   "outputs": [
    {
     "name": "stdout",
     "output_type": "stream",
     "text": [
      "['Alice' 'Bob' 'Alice']\n",
      "[[ 0.3     0.4    -0.001 ]\n",
      " [ 0.013   0.456   0.    ]\n",
      " [ 0.0099 -0.34    0.04  ]]\n"
     ]
    }
   ],
   "source": [
    "names = []\n",
    "positions = []\n",
    "for line in data:\n",
    "    line = line.strip()\n",
    "    if line.startswith((\"#\", \"@\")):\n",
    "        continue\n",
    "    values = line.split()\n",
    "    names.append(values[-1])\n",
    "    positions.append(values[:3])\n",
    "\n",
    "names = np.array(names)\n",
    "positions = np.array(positions, dtype=np.float64)\n",
    "    \n",
    "print(names)\n",
    "print(positions)"
   ]
  },
  {
   "cell_type": "markdown",
   "metadata": {
    "slideshow": {
     "slide_type": "fragment"
    }
   },
   "source": [
    "Setting the `dtype=np.float64` makes numpy convert the strings to float64. This is the fastest way to convert a list of strings to numbers."
   ]
  },
  {
   "cell_type": "markdown",
   "metadata": {
    "slideshow": {
     "slide_type": "slide"
    }
   },
   "source": [
    "## Reading data from files "
   ]
  },
  {
   "cell_type": "markdown",
   "metadata": {},
   "source": [
    "We learn how to \n",
    "1. **read text files** (containing data) and \n",
    "2. **process** them into **data structures** that we can work with."
   ]
  },
  {
   "cell_type": "markdown",
   "metadata": {
    "slideshow": {
     "slide_type": "subslide"
    }
   },
   "source": [
    "Use example data file `the_hunt.dat` (see notebook [example_data_hunter_food_game.ipynb](example_data_hunter_food_game.ipynb) for how the data were generated):\n",
    "```\n",
    "# stochastic hunter-prey simulation\n",
    "# t x y name\n",
    "0 -87.8942 -14.6517 food\n",
    "0 0 0 hunter\n",
    "1 -87.2301 -15.5329 food\n",
    "2 -1.08562 -1.1511 hunter\n",
    "...\n",
    "```"
   ]
  },
  {
   "cell_type": "markdown",
   "metadata": {
    "slideshow": {
     "slide_type": "-"
    }
   },
   "source": [
    "Read the file and create separate arrays for the positions of hunter and prey.\n",
    "\n",
    "Finally, plot them."
   ]
  },
  {
   "cell_type": "code",
   "execution_count": 17,
   "metadata": {
    "slideshow": {
     "slide_type": "subslide"
    }
   },
   "outputs": [],
   "source": [
    "xH = []\n",
    "xF = []\n",
    "\n",
    "with open(\"the_hunt.dat\") as data:\n",
    "    for line in data:\n",
    "        line = line.strip()\n",
    "        if line.startswith(\"#\"):\n",
    "            continue\n",
    "        values = line.split()\n",
    "        name = values[3]\n",
    "        txy = values[:3]\n",
    "        if name == \"hunter\":\n",
    "            xH.append(txy)\n",
    "        elif name == \"food\":\n",
    "            xF.append(txy)\n",
    "        else:\n",
    "            raise ValueError(\"Unknown name '{name}' in file.\".format(name=name))\n",
    "xH = np.array(xH, dtype=np.float64).T\n",
    "xF = np.array(xF, dtype=np.float64).T"
   ]
  },
  {
   "cell_type": "markdown",
   "metadata": {
    "slideshow": {
     "slide_type": "subslide"
    }
   },
   "source": [
    "Data inspection: compare to \n",
    "```\n",
    "0 -87.8942 -14.6517 food\n",
    "0 0 0 hunter\n",
    "1 -87.2301 -15.5329 food\n",
    "2 -1.08562 -1.1511 hunter\n",
    "...\n",
    "```"
   ]
  },
  {
   "cell_type": "code",
   "execution_count": 18,
   "metadata": {
    "slideshow": {
     "slide_type": "fragment"
    }
   },
   "outputs": [
    {
     "data": {
      "text/plain": [
       "(3, 414)"
      ]
     },
     "execution_count": 18,
     "metadata": {},
     "output_type": "execute_result"
    }
   ],
   "source": [
    "xH.shape"
   ]
  },
  {
   "cell_type": "code",
   "execution_count": 19,
   "metadata": {
    "scrolled": true,
    "slideshow": {
     "slide_type": "fragment"
    }
   },
   "outputs": [
    {
     "data": {
      "text/plain": [
       "array([[ 0.      ,  2.      ,  4.      ,  6.      ,  7.      ],\n",
       "       [ 0.      , -1.08562 , -0.390038, -2.83016 , -3.20459 ],\n",
       "       [ 0.      , -1.1511  , -2.67696 , -3.29305 , -2.753   ]])"
      ]
     },
     "execution_count": 19,
     "metadata": {},
     "output_type": "execute_result"
    }
   ],
   "source": [
    "xH[:, :5] "
   ]
  },
  {
   "cell_type": "code",
   "execution_count": 20,
   "metadata": {
    "slideshow": {
     "slide_type": "fragment"
    }
   },
   "outputs": [
    {
     "data": {
      "text/plain": [
       "array([[  0.    ,   1.    ,   3.    ,   5.    ,   8.    ],\n",
       "       [-87.8942, -87.2301, -88.1058, -88.9286, -89.7612],\n",
       "       [-14.6517, -15.5329, -16.3371, -17.128 , -17.0966]])"
      ]
     },
     "execution_count": 20,
     "metadata": {},
     "output_type": "execute_result"
    }
   ],
   "source": [
    "xF[:, :5]"
   ]
  },
  {
   "cell_type": "markdown",
   "metadata": {
    "slideshow": {
     "slide_type": "subslide"
    }
   },
   "source": [
    "#### Plot the data!"
   ]
  },
  {
   "cell_type": "code",
   "execution_count": 21,
   "metadata": {
    "scrolled": true
   },
   "outputs": [],
   "source": [
    "import matplotlib.pyplot as plt\n",
    "%matplotlib inline\n",
    "plt.matplotlib.style.use(\"seaborn-talk\")"
   ]
  },
  {
   "cell_type": "code",
   "execution_count": 22,
   "metadata": {
    "slideshow": {
     "slide_type": "subslide"
    }
   },
   "outputs": [
    {
     "data": {
      "image/png": "[encoded data removed]",
      "text/plain": [
       "<Figure size 432x288 with 1 Axes>"
      ]
     },
     "metadata": {
      "needs_background": "light"
     },
     "output_type": "display_data"
    }
   ],
   "source": [
    "plt.plot(xH[1], xH[2], color=\"orange\", label=\"hunter\")\n",
    "plt.plot(xH[1, 0], xH[2, 0], color=\"orange\", marker=\"v\")\n",
    "plt.plot(xF[1], xF[2], color=\"gray\", label=\"food\")\n",
    "plt.plot(xF[1, 0], xF[2, 0], color=\"gray\", marker=\"o\")\n",
    "plt.plot(xF[1, -1], xF[2, -1], color=\"red\", marker=\"*\", markersize=16, label=\"capture\")\n",
    "plt.legend(loc=\"best\")\n",
    "ax = plt.gca()\n",
    "ax.set_aspect(\"equal\")"
   ]
  },
  {
   "cell_type": "markdown",
   "metadata": {
    "slideshow": {
     "slide_type": "slide"
    }
   },
   "source": [
    "## Writing data "
   ]
  },
  {
   "cell_type": "markdown",
   "metadata": {},
   "source": [
    "* iterate through data structure\n",
    "* write each line to the file"
   ]
  },
  {
   "cell_type": "markdown",
   "metadata": {
    "slideshow": {
     "slide_type": "subslide"
    }
   },
   "source": [
    "Let's write the data for the hunter to a separate file and also convert the time column to an integer:"
   ]
  },
  {
   "cell_type": "code",
   "execution_count": 23,
   "metadata": {},
   "outputs": [],
   "source": [
    "with open(\"hunter.csv\", \"w\") as output:\n",
    "    for t, x, y in xH.T:\n",
    "        output.write(\"{t:d},{x:f},{y:f}\\n\".format(t=int(t), x=x, y=y))"
   ]
  },
  {
   "cell_type": "markdown",
   "metadata": {
    "slideshow": {
     "slide_type": "fragment"
    }
   },
   "source": [
    "For more on formatting strings, see [pyformat.info](https://pyformat.info/) and the [Python docs on string formatting](https://docs.python.org/3/library/string.html#string-formatting)."
   ]
  },
  {
   "cell_type": "markdown",
   "metadata": {
    "slideshow": {
     "slide_type": "fragment"
    }
   },
   "source": [
    "Note that the newline `\\n` is important because `write()` does not output a newline. It is more primitive than `print()`."
   ]
  },
  {
   "cell_type": "markdown",
   "metadata": {
    "slideshow": {
     "slide_type": "subslide"
    }
   },
   "source": [
    "Have a quick look at the first few lines of the file:"
   ]
  },
  {
   "cell_type": "code",
   "execution_count": 24,
   "metadata": {},
   "outputs": [
    {
     "data": {
      "text/plain": [
       "['0,0.000000,0.000000\\n', '2,-1.085620,-1.151100\\n', '4,-0.390038,-2.676960\\n']"
      ]
     },
     "execution_count": 24,
     "metadata": {},
     "output_type": "execute_result"
    }
   ],
   "source": [
    "open(\"hunter.csv\").readlines()[:3]"
   ]
  },
  {
   "cell_type": "markdown",
   "metadata": {
    "slideshow": {
     "slide_type": "subslide"
    }
   },
   "source": [
    "You can also use `print()` instead of `file.write()`:\n",
    "```python\n",
    "print(..., file=output)\n",
    "```\n",
    "(and have the newline automatically added):"
   ]
  },
  {
   "cell_type": "code",
   "execution_count": 25,
   "metadata": {},
   "outputs": [],
   "source": [
    "with open(\"food.csv\", \"w\") as output:\n",
    "    for t, x, y in xF.T:\n",
    "        print(\"{t:d},{x:f},{y:f}\".format(t=int(t), x=x, y=y), file=output)"
   ]
  },
  {
   "cell_type": "code",
   "execution_count": 26,
   "metadata": {
    "slideshow": {
     "slide_type": "fragment"
    }
   },
   "outputs": [
    {
     "data": {
      "text/plain": [
       "['0,-87.894200,-14.651700\\n',\n",
       " '1,-87.230100,-15.532900\\n',\n",
       " '3,-88.105800,-16.337100\\n']"
      ]
     },
     "execution_count": 26,
     "metadata": {},
     "output_type": "execute_result"
    }
   ],
   "source": [
    "open(\"food.csv\").readlines()[:3]"
   ]
  },
  {
   "cell_type": "markdown",
   "metadata": {
    "slideshow": {
     "slide_type": "slide"
    }
   },
   "source": [
    "## Summary: data processing\n",
    "\n",
    "- open files with `with open(name) as data:`\n",
    "- iterate line by line\n",
    "- clean lines (`strip()`, `startswith()`)\n",
    "- parse data (`split()`)\n",
    "- convert and pack into data structures (numpy arrays!)"
   ]
  },
  {
   "cell_type": "code",
   "execution_count": null,
   "metadata": {},
   "outputs": [],
   "source": []
  }
 ],
 "metadata": {
  "celltoolbar": "Slideshow",
  "kernelspec": {
   "display_name": "Python 3",
   "language": "python",
   "name": "python3"
  },
  "language_info": {
   "codemirror_mode": {
    "name": "ipython",
    "version": 3
   },
   "file_extension": ".py",
   "mimetype": "text/x-python",
   "name": "python",
   "nbconvert_exporter": "python",
   "pygments_lexer": "ipython3",
   "version": "3.6.7"
  }
 },
 "nbformat": 4,
 "nbformat_minor": 2
}

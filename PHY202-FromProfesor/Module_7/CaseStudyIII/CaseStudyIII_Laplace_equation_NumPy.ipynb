{
 "cells": [
  {
   "cell_type": "markdown",
   "metadata": {},
   "source": [
    "# Case Study III: (2) Solving Laplace's equation with NumPy\n",
    "\n",
    "\n",
    "In the first part of the case study we solved the Laplace equation with Python. In the second part, we will use NumPy.\n"
   ]
  },
  {
   "cell_type": "code",
   "execution_count": 1,
   "metadata": {},
   "outputs": [],
   "source": [
    "import numpy as np"
   ]
  },
  {
   "cell_type": "markdown",
   "metadata": {
    "slideshow": {
     "slide_type": "slide"
    }
   },
   "source": [
    "## Recap: Solving Laplace's or Poisson's equation\n",
    "\n",
    "Still solving **Poisson's equation** for the electric potential $\\Phi(\\mathbf{r})$ and the charge density $\\rho(\\mathbf{r})$:\n",
    "\n",
    "$$\n",
    "\\nabla^2 \\Phi(x, y, z) = -4\\pi\\rho(x, y, z)\\\\\n",
    "$$"
   ]
  },
  {
   "cell_type": "markdown",
   "metadata": {
    "slideshow": {
     "slide_type": "fragment"
    }
   },
   "source": [
    "For a region of space without charges ($\\rho = 0$) this reduces to **Laplace's equation**\n",
    "\n",
    "$$\n",
    "\\nabla^2 \\Phi(x, y, z) = 0\n",
    "$$\n"
   ]
  },
  {
   "cell_type": "markdown",
   "metadata": {},
   "source": [
    "General solution by iteration:\n",
    "$$\n",
    "\\Phi_{i,j} = \\frac{1}{4}\\Big(\\Phi_{i+1,j} + \\Phi_{i-1,j} + \\Phi_{i,j+1} + \\Phi_{i,j-1}\\Big)\n",
    "     + \\pi\\rho_{i,j} \\Delta^2\n",
    "$$\n",
    "\n",
    "(For Laplace's equation, just set $\\rho_{i,j} = 0$.)"
   ]
  },
  {
   "cell_type": "markdown",
   "metadata": {
    "slideshow": {
     "slide_type": "subslide"
    }
   },
   "source": [
    "### Jacobi method: Python\n",
    "Do not change $\\Phi_{i,j}$ until a complete sweep has been completed.\n",
    "\n",
    "This is the algorithm from Part 1, packaged as a function:"
   ]
  },
  {
   "cell_type": "code",
   "execution_count": 2,
   "metadata": {},
   "outputs": [],
   "source": [
    "def Laplace_Jacobi_python(Phi):\n",
    "    \"\"\"One update in the Jacobi algorithm (Python loop)\"\"\"\n",
    "    Phi_new = Phi.copy()\n",
    "    Nx, Ny = Phi.shape\n",
    "    for xi in range(1, Nx-1):\n",
    "        for yj in range(1, Ny-1):\n",
    "            Phi_new[xi, yj] = 0.25*(Phi[xi+1, yj] + Phi[xi-1, yj]\n",
    "                                  + Phi[xi, yj+1] + Phi[xi, yj-1])\n",
    "    Phi[:, :] = Phi_new\n",
    "    return Phi"
   ]
  },
  {
   "cell_type": "markdown",
   "metadata": {
    "slideshow": {
     "slide_type": "subslide"
    }
   },
   "source": [
    "## Jacobi method: NumPy\n",
    "Do not change $\\Phi_{i,j}$ until a complete sweep has been completed.\n"
   ]
  },
  {
   "cell_type": "markdown",
   "metadata": {},
   "source": [
    "Fast implementation using numpy array operations (vectorized, run at C speed, not Python speed):"
   ]
  },
  {
   "cell_type": "code",
   "execution_count": 3,
   "metadata": {},
   "outputs": [],
   "source": [
    "def Laplace_Jacobi(Phi):\n",
    "    \"\"\"One update in the Jacobi algorithm\"\"\"\n",
    "    Phi[1:-1, 1:-1] = 0.25*(Phi[2:, 1:-1] + Phi[0:-2, 1:-1] + Phi[1:-1, 2:] + Phi[1:-1, 0:-2])\n",
    "    return Phi"
   ]
  },
  {
   "cell_type": "markdown",
   "metadata": {},
   "source": [
    "Note how much simpler the code becomes by using array operations."
   ]
  },
  {
   "cell_type": "markdown",
   "metadata": {},
   "source": [
    "If you are still wrapping your head around how the array slicing works, look at the following layouts of the array for each component of\n",
    "```\n",
    "Phi[1:-1, 1:-1] = 0.25*(Phi[2:, 1:-1] + Phi[0:-2, 1:-1] + Phi[1:-1, 2:] + Phi[1:-1, 0:-2])\n",
    "```\n",
    "which corresponds to\n",
    "$$\n",
    "\\Phi_{i,j} = \\frac{1}{4}\\Big(\\Phi_{i+1,j} + \\Phi_{i-1,j} + \\Phi_{i,j+1} + \\Phi_{i,j-1}\\Big)\n",
    "$$\n",
    "as the sum of\n",
    "$$\n",
    "\\Phi_{i,j} = \\frac{1}{4}\\Big(\\text{right neighbor} + \\text{left neighbor} + \\text{top neighbor} + \\text{bottom neighbor}\\Big)\n",
    "$$\n",
    "i.e.\n",
    "$$\n",
    "\\begin{array}{ccc}\n",
    "       & \\Phi_{i, j+1} & \\\\\n",
    "\\Phi_{i-1, j} & \\color{red}{{\\Phi}_{i,j}} & \\Phi_{i+1, j}\\\\\n",
    "       & \\Phi_{i, j-1} & \n",
    "\\end{array}\n",
    "$$"
   ]
  },
  {
   "cell_type": "markdown",
   "metadata": {},
   "source": [
    "The whole potential (inside and boundaries), $\\Phi_{i, j}$, $0 \\le i < N_x$ and  $0 \\le j < N_y$ \n",
    "```\n",
    "Phi = \n",
    "\n",
    "100 100 100 100 100 100\n",
    "  0   a   e   i   m   0\n",
    "  0   b   f   j   n   0\n",
    "  0   c   g   k   o   0\n",
    "  0   d   h   l   p   0\n",
    "  0   0   0   0   0   0\n",
    "```\n",
    "\n",
    "(Note that the array in row-column layout appears transposed compared to the x-y coordinates that we are using.)"
   ]
  },
  {
   "cell_type": "markdown",
   "metadata": {},
   "source": [
    "The **inside of the box** $\\Phi_{i, j}$, $1 \\le i < N_x -1$ and  $1 \\le j < N_y - 1$ \n",
    "```\n",
    "Phi[1:-1, 1:-1] = \n",
    "\n",
    " \n",
    "      a   e   i   m    \n",
    "      b   f   j   n    \n",
    "      c   g   k   o    \n",
    "      d   h   l   p    \n",
    "\n",
    "\n",
    "```\n"
   ]
  },
  {
   "cell_type": "markdown",
   "metadata": {},
   "source": [
    "The **right neigbors** $\\Phi_{i+1, j}$, $2 \\le i < N_x$ and  $1 \\le j < N_y - 1$ (note that the right boundary is included)\n",
    "\n",
    "```\n",
    "Phi[2:, 1:-1] = \n",
    "\n",
    "\n",
    "      b   f   j   n  \n",
    "      c   g   k   o   \n",
    "      d   h   l   p   \n",
    "      0   0   0   0   \n",
    "```\n",
    "\n",
    "(Confusingly, in the row-column layout, \"right\" neighbors looks like \"bottom\" neighbors).\n"
   ]
  },
  {
   "cell_type": "markdown",
   "metadata": {},
   "source": [
    "The **left neighbors** $\\Phi_{i-1, j}$, $0 \\le i < N_x-2$ and  $1 \\le j < N_y - 1$ (note that the left boundary, namely the wire at 100V, is included)\n",
    "```\n",
    "Phi[:-2, 1:-1] = \n",
    "\n",
    "    100 100 100 100  \n",
    "      a   e   i   m    \n",
    "      b   f   j   n    \n",
    "      c   g   k   o    \n",
    "\n",
    "```\n",
    "(Confusingly, in the row-column layout, \"left\" neighbors looks like \"top\" neighbors).\n"
   ]
  },
  {
   "cell_type": "markdown",
   "metadata": {},
   "source": [
    "The **top neighbors** $\\Phi_{i, j+1}$, $1 \\le i < N_x-1$ and  $2 \\le j < N_y$ \n",
    "```\n",
    "Phi[1:-1, 2:] = \n",
    "\n",
    "\n",
    "          e   i   m   0\n",
    "          f   j   n   0\n",
    "          g   k   o   0\n",
    "          h   l   p   0\n",
    "\n",
    "```\n"
   ]
  },
  {
   "cell_type": "markdown",
   "metadata": {},
   "source": [
    "The **bottom neighbors**, $\\Phi_{i, j-1}$, $1 \\le i < N_x-1$ and  $0 \\le j < N_y-2$ \n",
    "```\n",
    "Phi[1:-1, :-2] = \n",
    "\n",
    " \n",
    "  0   a   e   i  \n",
    "  0   b   f   j  \n",
    "  0   c   g   k  \n",
    "  0   d   h   l  \n",
    " \n",
    "```"
   ]
  },
  {
   "cell_type": "markdown",
   "metadata": {},
   "source": [
    "So, for example,\n",
    "$$\n",
    "\\Phi_{1,1} = \\frac{1}{4}\\Big(\\Phi_{2,1} + \\Phi_{0,1} + \\Phi_{1,2} + \\Phi_{1,0}\\Big)\n",
    "$$\n",
    "is calculated as \n",
    "```python\n",
    "Phi[1, 1] = a = 0.25 * (b + 100 + e + 0)\n",
    "```\n",
    "by element-wise operations on the sliced arrays above."
   ]
  },
  {
   "cell_type": "markdown",
   "metadata": {},
   "source": [
    "### Speed-comparison\n",
    "\n",
    "We learned that we **should avoid Python loops** and **use numpy array operations**. But does it really matter?\n",
    "\n",
    "Let's run 20 iterations of the Jacobi algorithm and time it with `%%timeit`.\n"
   ]
  },
  {
   "cell_type": "markdown",
   "metadata": {},
   "source": [
    "#### Python "
   ]
  },
  {
   "cell_type": "code",
   "execution_count": 4,
   "metadata": {},
   "outputs": [
    {
     "name": "stdout",
     "output_type": "stream",
     "text": [
      "232 ms ± 10 ms per loop (mean ± std. dev. of 7 runs, 1 loop each)\n"
     ]
    }
   ],
   "source": [
    "%%timeit \n",
    "\n",
    "Max_iter = 20\n",
    "\n",
    "Nmax = 100\n",
    "Phi = np.zeros((Nmax, Nmax), dtype=np.float64)\n",
    "\n",
    "# initialize boundaries\n",
    "# everything starts out zero so nothing special for the grounded wires\n",
    "Phi[0, :] = 100     # wire at x=0 at 100 V\n",
    "\n",
    "for n_iter in range(Max_iter):\n",
    "    Phi[:, :] = Laplace_Jacobi_python(Phi)"
   ]
  },
  {
   "cell_type": "markdown",
   "metadata": {},
   "source": [
    "#### NumPy"
   ]
  },
  {
   "cell_type": "code",
   "execution_count": 5,
   "metadata": {},
   "outputs": [
    {
     "name": "stdout",
     "output_type": "stream",
     "text": [
      "1.54 ms ± 223 µs per loop (mean ± std. dev. of 7 runs, 1000 loops each)\n"
     ]
    }
   ],
   "source": [
    "%%timeit \n",
    "\n",
    "Max_iter = 20\n",
    "\n",
    "Nmax = 100\n",
    "Phi = np.zeros((Nmax, Nmax), dtype=np.float64)\n",
    "\n",
    "# initialize boundaries\n",
    "# everything starts out zero so nothing special for the grounded wires\n",
    "Phi[0, :] = 100     # wire at x=0 at 100 V\n",
    "\n",
    "for n_iter in range(Max_iter):\n",
    "    Phi[:, :] = Laplace_Jacobi(Phi)"
   ]
  },
  {
   "cell_type": "markdown",
   "metadata": {},
   "source": [
    "#### And the winner is ... NumPy!\n",
    "On my laptop, NumPy is about"
   ]
  },
  {
   "cell_type": "code",
   "execution_count": 13,
   "metadata": {},
   "outputs": [
    {
     "data": {
      "text/plain": [
       "150.64935064935065"
      ]
     },
     "execution_count": 13,
     "metadata": {},
     "output_type": "execute_result"
    }
   ],
   "source": [
    "232/1.54"
   ]
  },
  {
   "cell_type": "markdown",
   "metadata": {},
   "source": [
    "~**150 times faster** than the Python loop! (Results may vary between 100 and 300 fold, depending on your computer etc. but speed-ups on the order of 100 are normal)\n",
    "\n",
    "This is a massive speed gain, which will only improve with larger problem sizes.\n",
    "\n",
    "Additionally, the code is much more readable.\n"
   ]
  },
  {
   "cell_type": "markdown",
   "metadata": {
    "slideshow": {
     "slide_type": "slide"
    }
   },
   "source": [
    "## *Converged* solution of the wire-in-a-box problem"
   ]
  },
  {
   "cell_type": "markdown",
   "metadata": {},
   "source": [
    "Solve the box-wire problem and **make sure that the solution is converged to  `tol = 1e-3`.**"
   ]
  },
  {
   "cell_type": "markdown",
   "metadata": {},
   "source": [
    "Check convergence with the [_Frobenius Norm_](http://mathworld.wolfram.com/FrobeniusNorm.html):\n",
    "\n",
    "$$\n",
    "||\\mathsf{\\Phi}|| := \\sqrt{\\sum_{i,j}|\\Phi_{ij}|^2}\n",
    "$$\n",
    "\n",
    "which is implemented as [numpy.linalg.norm()](https://docs.scipy.org/doc/numpy/reference/generated/numpy.linalg.norm.html) when the argument is a matrix."
   ]
  },
  {
   "cell_type": "code",
   "execution_count": 7,
   "metadata": {},
   "outputs": [],
   "source": [
    "import numpy as np\n",
    "import matplotlib.pyplot as plt\n",
    "from mpl_toolkits.mplot3d import Axes3D\n",
    "%matplotlib notebook"
   ]
  },
  {
   "cell_type": "markdown",
   "metadata": {},
   "source": [
    "Only execute the next line if you *don't* want interactive plotting (e.g., when exporting to LaTeX/PDF or html):"
   ]
  },
  {
   "cell_type": "code",
   "execution_count": 8,
   "metadata": {},
   "outputs": [],
   "source": [
    "%matplotlib inline"
   ]
  },
  {
   "cell_type": "markdown",
   "metadata": {},
   "source": [
    "### Convience plotting functions. \n",
    "If you provide a filename then output is only written to a file and figures are close to conserve memory. This allows you to plot files in loops and later assemble them into movies using other programs such as ffmpeg, ImageMagick, mencoder, QuickTime 7, ..."
   ]
  },
  {
   "cell_type": "code",
   "execution_count": 9,
   "metadata": {},
   "outputs": [],
   "source": [
    "def plot_contour(Phi, filename=None, zlabel=r\"potential $\\Phi$ (V)\",\n",
    "                 cmap=plt.cm.coolwarm):\n",
    "    \"\"\"Plot Phi as a contour plot.\n",
    "    \n",
    "    Arguments\n",
    "    ---------\n",
    "    Phi : 2D array\n",
    "          potential on lattice\n",
    "    filename : string or None, optional (default: None)\n",
    "          If `None` then show the figure and return the axes object.\n",
    "          If a string is given (like \"contour.png\") it will only plot \n",
    "          to the filename and close the figure but return the filename.\n",
    "    cmap : colormap\n",
    "          pick one from matplotlib.cm          \n",
    "    \"\"\"\n",
    "    fig = plt.figure(figsize=(5,4))\n",
    "    ax = fig.add_subplot(111)\n",
    "\n",
    "    x = np.arange(Phi.shape[0])\n",
    "    y = np.arange(Phi.shape[1])\n",
    "    X, Y = np.meshgrid(x, y)\n",
    "    Z = Phi[X, Y]\n",
    "    cset = ax.contourf(X, Y, Z, 20, cmap=cmap)\n",
    "    ax.set_xlabel('X')\n",
    "    ax.set_ylabel('Y')\n",
    "    ax.set_aspect(1)\n",
    "\n",
    "    cb = fig.colorbar(cset, shrink=0.5, aspect=5)\n",
    "    cb.set_label(zlabel)\n",
    "    \n",
    "    if filename:\n",
    "        fig.savefig(filename)\n",
    "        plt.close(fig)\n",
    "        return filename\n",
    "    else:\n",
    "        return ax\n",
    "    \n",
    "\n",
    "def plot_surf(Phi, filename=None, offset=-20, zlabel=r'potential $\\Phi$ (V)',\n",
    "             elevation=40, azimuth=-65, cmap=plt.cm.coolwarm):\n",
    "    \"\"\"Plot Phi as a 3D plot with contour plot underneath.\n",
    "    \n",
    "    Arguments\n",
    "    ---------\n",
    "    Phi : 2D array\n",
    "          potential on lattice\n",
    "    filename : string or None, optional (default: None)\n",
    "          If `None` then show the figure and return the axes object.\n",
    "          If a string is given (like \"contour.png\") it will only plot \n",
    "          to the filename and close the figure but return the filename.\n",
    "    offset : float, optional (default: 20)\n",
    "          position the 2D contour plot by offset along the Z direction\n",
    "          under the minimum Z value\n",
    "    zlabel : string, optional\n",
    "          label for the Z axis and color scale bar\n",
    "    elevation : float, optional\n",
    "          choose elevation for initial viewpoint\n",
    "    azimuth : float, optional\n",
    "          chooze azimuth angle for initial viewpoint\n",
    "    cmap : colormap\n",
    "          pick one from matplotlib.cm\n",
    "    \"\"\"\n",
    "     \n",
    "    x = np.arange(Phi.shape[0])\n",
    "    y = np.arange(Phi.shape[1])\n",
    "    X, Y = np.meshgrid(x, y)\n",
    "    Z = Phi[X, Y]\n",
    "        \n",
    "    fig = plt.figure()\n",
    "    ax = fig.add_subplot(111, projection='3d')\n",
    "    ax.plot_wireframe(X, Y, Z, rstride=2, cstride=2, linewidth=0.5, color=\"gray\")\n",
    "    surf = ax.plot_surface(X, Y, Z, cmap=cmap, alpha=0.6)\n",
    "    cset = ax.contourf(X, Y, Z, 20, zdir='z', offset=offset+Z.min(), cmap=cmap)\n",
    "\n",
    "    ax.set_xlabel('X')\n",
    "    ax.set_ylabel('Y')\n",
    "    ax.set_zlabel(zlabel)\n",
    "    ax.set_zlim(offset + Z.min(), Z.max())\n",
    "    \n",
    "    ax.view_init(elev=elevation, azim=azimuth)\n",
    "\n",
    "    cb = fig.colorbar(surf, shrink=0.5, aspect=5)\n",
    "    cb.set_label(zlabel)\n",
    "    \n",
    "    if filename:\n",
    "        fig.savefig(filename)\n",
    "        plt.close(fig)\n",
    "        return filename\n",
    "    else:\n",
    "        return ax"
   ]
  },
  {
   "cell_type": "markdown",
   "metadata": {},
   "source": [
    "### Solution for the Wire-on-a-box problem\n",
    "\n",
    "Use the faster Laplace solver: `Laplace_Jacobi()`"
   ]
  },
  {
   "cell_type": "code",
   "execution_count": 10,
   "metadata": {
    "scrolled": true
   },
   "outputs": [
    {
     "name": "stdout",
     "output_type": "stream",
     "text": [
      "Laplace_Jacobi converged in 13738 iterations to 0.0009998150508760593\n"
     ]
    }
   ],
   "source": [
    "Max_iter=30000\n",
    "tol = 1e-3\n",
    "Nmax = 100\n",
    "Phi = np.zeros((Nmax, Nmax), dtype=np.float64)\n",
    "Phi_old = np.zeros_like(Phi)\n",
    "\n",
    "# initialize boundaries\n",
    "# everything starts out zero so nothing special for the grounded wires\n",
    "Phi[0, :] = 100     # wire at x=0 at 100 V\n",
    "\n",
    "for n_iter in range(Max_iter):\n",
    "    Phi_old[:, :] = Phi\n",
    "    Phi = Laplace_Jacobi(Phi)\n",
    "    DeltaPhi = np.linalg.norm(Phi - Phi_old)\n",
    "    if DeltaPhi < tol:\n",
    "        print(\"Laplace_Jacobi converged in {0} iterations to {1}\".format(n_iter+1, DeltaPhi))\n",
    "        break\n",
    "else:\n",
    "    print(\"Laplace_Jacobi did NOT converge in {0} iterations, DeltaPhi={1}\".format(n_iter+1, DeltaPhi))\n",
    "    "
   ]
  },
  {
   "cell_type": "markdown",
   "metadata": {},
   "source": [
    "Plot the result and visualy compare to what we had before:"
   ]
  },
  {
   "cell_type": "code",
   "execution_count": 11,
   "metadata": {
    "scrolled": true
   },
   "outputs": [
    {
     "data": {
      "text/plain": [
       "<matplotlib.axes._subplots.AxesSubplot at 0x116beeb70>"
      ]
     },
     "execution_count": 11,
     "metadata": {},
     "output_type": "execute_result"
    },
    {
     "data": {
      "image/png": "[encoded data removed]",
      "text/plain": [
       "<Figure size 360x288 with 2 Axes>"
      ]
     },
     "metadata": {
      "needs_background": "light"
     },
     "output_type": "display_data"
    }
   ],
   "source": [
    "plot_contour(Phi)"
   ]
  },
  {
   "cell_type": "code",
   "execution_count": 12,
   "metadata": {},
   "outputs": [
    {
     "data": {
      "text/plain": [
       "<matplotlib.axes._subplots.Axes3DSubplot at 0x119fd9e80>"
      ]
     },
     "execution_count": 12,
     "metadata": {},
     "output_type": "execute_result"
    },
    {
     "data": {
      "image/png": "[encoded data removed]",
      "text/plain": [
       "<Figure size 432x288 with 2 Axes>"
      ]
     },
     "metadata": {
      "needs_background": "light"
     },
     "output_type": "display_data"
    }
   ],
   "source": [
    "plot_surf(Phi)"
   ]
  }
 ],
 "metadata": {
  "anaconda-cloud": {},
  "celltoolbar": "Slideshow",
  "kernelspec": {
   "display_name": "Python 3",
   "language": "python",
   "name": "python3"
  },
  "language_info": {
   "codemirror_mode": {
    "name": "ipython",
    "version": 3
   },
   "file_extension": ".py",
   "mimetype": "text/x-python",
   "name": "python",
   "nbconvert_exporter": "python",
   "pygments_lexer": "ipython3",
   "version": "3.6.7"
  }
 },
 "nbformat": 4,
 "nbformat_minor": 1
}

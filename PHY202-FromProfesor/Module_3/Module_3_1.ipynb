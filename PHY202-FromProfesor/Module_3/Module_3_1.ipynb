{
 "cells": [
  {
   "cell_type": "markdown",
   "metadata": {
    "slideshow": {
     "slide_type": "slide"
    }
   },
   "source": [
    "# Module 3.1 "
   ]
  },
  {
   "cell_type": "markdown",
   "metadata": {},
   "source": [
    "Goal: make code \n",
    "- **readable**\n",
    "- **reuseable**\n",
    "- testable"
   ]
  },
  {
   "cell_type": "markdown",
   "metadata": {
    "slideshow": {
     "slide_type": "fragment"
    }
   },
   "source": [
    "Approach: **modularization** (create small reuseable pieces of code)\n",
    "- functions\n",
    "- modules"
   ]
  },
  {
   "cell_type": "markdown",
   "metadata": {
    "slideshow": {
     "slide_type": "slide"
    }
   },
   "source": [
    "## Unit 5: Functions"
   ]
  },
  {
   "cell_type": "markdown",
   "metadata": {},
   "source": [
    "Python functions\n",
    "* `len(a)`\n",
    "* `max(a)`\n",
    "* `sum(a)`\n",
    "* `range(start, stop, step)` or `range(stop)`\n",
    "* `print(s)` or `print(s1, s2, ...)` or `print(s, end=\" \")` "
   ]
  },
  {
   "cell_type": "markdown",
   "metadata": {
    "slideshow": {
     "slide_type": "subslide"
    }
   },
   "source": [
    "Functions have\n",
    "* **name**\n",
    "* **arguments** (in **parentheses**) — optional (but _always_ parentheses)\n",
    "* **return value** — (can be `None`)"
   ]
  },
  {
   "cell_type": "code",
   "execution_count": 1,
   "metadata": {
    "slideshow": {
     "slide_type": "fragment"
    }
   },
   "outputs": [
    {
     "data": {
      "text/plain": [
       "3"
      ]
     },
     "execution_count": 1,
     "metadata": {},
     "output_type": "execute_result"
    }
   ],
   "source": [
    "arg = ['a', 'b', 'c']\n",
    "retval = len(arg)\n",
    "retval"
   ]
  },
  {
   "cell_type": "code",
   "execution_count": 2,
   "metadata": {
    "slideshow": {
     "slide_type": "fragment"
    }
   },
   "outputs": [
    {
     "name": "stdout",
     "output_type": "stream",
     "text": [
      "hello\n",
      "None\n"
     ]
    }
   ],
   "source": [
    "retval = print(\"hello\")\n",
    "print(retval)"
   ]
  },
  {
   "cell_type": "code",
   "execution_count": 3,
   "metadata": {
    "slideshow": {
     "slide_type": "fragment"
    }
   },
   "outputs": [
    {
     "data": {
      "text/plain": [
       "True"
      ]
     },
     "execution_count": 3,
     "metadata": {},
     "output_type": "execute_result"
    }
   ],
   "source": [
    "retval is None"
   ]
  },
  {
   "cell_type": "markdown",
   "metadata": {
    "slideshow": {
     "slide_type": "subslide"
    }
   },
   "source": [
    "### Defining functions "
   ]
  },
  {
   "cell_type": "markdown",
   "metadata": {},
   "source": [
    "```python\n",
    "def func_name(arg1, arg2, ...):\n",
    "    \"\"\"documentation string (optional)\"\"\"\n",
    "    # body\n",
    "    ...\n",
    "    return results\n",
    "```"
   ]
  },
  {
   "cell_type": "markdown",
   "metadata": {
    "slideshow": {
     "slide_type": "subslide"
    }
   },
   "source": [
    "[**Heaviside** step function](http://mathworld.wolfram.com/HeavisideStepFunction.html) (again):\n",
    "\n",
    "$$\n",
    "\\Theta(x) = \\begin{cases}\n",
    "  0 & x < 0 \\\\\n",
    "  \\frac{1}{2} & x = 0\\\\\n",
    "  1 & x > 0\n",
    "  \\end{cases}\n",
    "$$\n"
   ]
  },
  {
   "cell_type": "code",
   "execution_count": 4,
   "metadata": {
    "slideshow": {
     "slide_type": "fragment"
    }
   },
   "outputs": [
    {
     "name": "stdout",
     "output_type": "stream",
     "text": [
      "theta(1.23) = 1\n"
     ]
    }
   ],
   "source": [
    "x = 1.23\n",
    "\n",
    "theta = None\n",
    "if x < 0:\n",
    "    theta = 0\n",
    "elif x > 0:\n",
    "    theta = 1\n",
    "else:\n",
    "    theta = 0.5\n",
    "    \n",
    "print(\"theta({0}) = {1}\".format(x, theta))"
   ]
  },
  {
   "cell_type": "markdown",
   "metadata": {
    "slideshow": {
     "slide_type": "subslide"
    }
   },
   "source": [
    "[**Heaviside** step function](http://mathworld.wolfram.com/HeavisideStepFunction.html) (again):\n",
    "\n",
    "$$\n",
    "\\Theta(x) = \\begin{cases}\n",
    "  0 & x < 0 \\\\\n",
    "  \\frac{1}{2} & x = 0\\\\\n",
    "  1 & x > 0\n",
    "  \\end{cases}\n",
    "$$\n"
   ]
  },
  {
   "cell_type": "code",
   "execution_count": 5,
   "metadata": {
    "slideshow": {
     "slide_type": "notes"
    }
   },
   "outputs": [],
   "source": [
    "def Heaviside(x):\n",
    "    theta = None\n",
    "    if x < 0:\n",
    "        theta = 0\n",
    "    elif x > 0:\n",
    "        theta = 1\n",
    "    else:\n",
    "        theta = 0.5\n",
    "    return theta"
   ]
  },
  {
   "cell_type": "code",
   "execution_count": 6,
   "metadata": {},
   "outputs": [],
   "source": [
    "def Heaviside(x):\n",
    "    theta = None\n",
    "    if x < 0:\n",
    "        theta = 0\n",
    "    elif x > 0:\n",
    "        theta = 1\n",
    "    else:\n",
    "        theta = 0.5\n",
    "    return theta"
   ]
  },
  {
   "cell_type": "markdown",
   "metadata": {
    "slideshow": {
     "slide_type": "subslide"
    }
   },
   "source": [
    "Now **call** the function:"
   ]
  },
  {
   "cell_type": "code",
   "execution_count": 7,
   "metadata": {
    "slideshow": {
     "slide_type": "fragment"
    }
   },
   "outputs": [
    {
     "data": {
      "text/plain": [
       "0.5"
      ]
     },
     "execution_count": 7,
     "metadata": {},
     "output_type": "execute_result"
    }
   ],
   "source": [
    "Heaviside(0)"
   ]
  },
  {
   "cell_type": "code",
   "execution_count": 8,
   "metadata": {
    "slideshow": {
     "slide_type": "fragment"
    }
   },
   "outputs": [
    {
     "data": {
      "text/plain": [
       "1"
      ]
     },
     "execution_count": 8,
     "metadata": {},
     "output_type": "execute_result"
    }
   ],
   "source": [
    "Heaviside(1.2)"
   ]
  },
  {
   "cell_type": "markdown",
   "metadata": {
    "slideshow": {
     "slide_type": "subslide"
    }
   },
   "source": [
    "Add doc string:"
   ]
  },
  {
   "cell_type": "code",
   "execution_count": 9,
   "metadata": {
    "slideshow": {
     "slide_type": "-"
    }
   },
   "outputs": [],
   "source": [
    "def Heaviside(x):\n",
    "    \"\"\"Heaviside step function\n",
    "    \n",
    "    Parameters\n",
    "    ----------\n",
    "    x : float\n",
    "    \n",
    "    Returns\n",
    "    -------\n",
    "    float\n",
    "    \"\"\"\n",
    "    theta = None\n",
    "    if x < 0:\n",
    "        theta = 0\n",
    "    elif x > 0:\n",
    "        theta = 1\n",
    "    else:\n",
    "        theta = 0.5\n",
    "    return theta"
   ]
  },
  {
   "cell_type": "code",
   "execution_count": 10,
   "metadata": {
    "slideshow": {
     "slide_type": "subslide"
    }
   },
   "outputs": [
    {
     "name": "stdout",
     "output_type": "stream",
     "text": [
      "Help on function Heaviside in module __main__:\n",
      "\n",
      "Heaviside(x)\n",
      "    Heaviside step function\n",
      "    \n",
      "    Parameters\n",
      "    ----------\n",
      "    x : float\n",
      "    \n",
      "    Returns\n",
      "    -------\n",
      "    float\n",
      "\n"
     ]
    }
   ],
   "source": [
    "help(Heaviside)"
   ]
  },
  {
   "cell_type": "markdown",
   "metadata": {
    "slideshow": {
     "slide_type": "subslide"
    }
   },
   "source": [
    "Make code more concise:"
   ]
  },
  {
   "cell_type": "code",
   "execution_count": 11,
   "metadata": {},
   "outputs": [],
   "source": [
    "def Heaviside(x):\n",
    "    \"\"\"Heaviside step function\n",
    "    \n",
    "    Parameters\n",
    "    ----------\n",
    "    x : float\n",
    "    \n",
    "    Returns\n",
    "    -------\n",
    "    float\n",
    "    \"\"\"\n",
    "    if x < 0:\n",
    "        return 0\n",
    "    elif x > 0:\n",
    "        return 1\n",
    "    return 0.5"
   ]
  },
  {
   "cell_type": "code",
   "execution_count": 12,
   "metadata": {},
   "outputs": [
    {
     "name": "stdout",
     "output_type": "stream",
     "text": [
      "[(-1.5, 0), (-1.0, 0), (-0.5, 0), (0.0, 0.5), (0.5, 1), (1.0, 1), (1.5, 1)]\n"
     ]
    }
   ],
   "source": [
    "X = [i*0.5 for i in range(-3, 4)]\n",
    "Y = [Heaviside(x) for x in X]\n",
    "print(list(zip(X, Y)))"
   ]
  },
  {
   "cell_type": "markdown",
   "metadata": {
    "slideshow": {
     "slide_type": "subslide"
    }
   },
   "source": [
    "### Multiple return values "
   ]
  },
  {
   "cell_type": "markdown",
   "metadata": {},
   "source": [
    "Functions always return a single object.\n",
    "\n",
    "- `None`\n",
    "- basic data type (float, int, str, ...)\n",
    "- container data type, e.g. a list or a **tuple**\n",
    "- _any_ object"
   ]
  },
  {
   "cell_type": "markdown",
   "metadata": {
    "slideshow": {
     "slide_type": "subslide"
    }
   },
   "source": [
    "Move a particle at coordinate `r = [x, y]` by a translation vector `[tx, ty]`:"
   ]
  },
  {
   "cell_type": "code",
   "execution_count": 13,
   "metadata": {
    "slideshow": {
     "slide_type": "fragment"
    }
   },
   "outputs": [],
   "source": [
    "def translate(r, t):\n",
    "    \"\"\"Return r + t for 2D vectors r, t\"\"\"\n",
    "    x1 = r[0] + t[0]\n",
    "    y1 = r[1] + t[1]\n",
    "    return [x1, y1]"
   ]
  },
  {
   "cell_type": "code",
   "execution_count": 14,
   "metadata": {
    "slideshow": {
     "slide_type": "fragment"
    }
   },
   "outputs": [
    {
     "data": {
      "text/plain": [
       "[10, 0]"
      ]
     },
     "execution_count": 14,
     "metadata": {},
     "output_type": "execute_result"
    }
   ],
   "source": [
    "pos = [1, -1]\n",
    "tvec = [9, 1]\n",
    "new_pos = translate(pos, tvec)\n",
    "new_pos"
   ]
  },
  {
   "cell_type": "markdown",
   "metadata": {
    "slideshow": {
     "slide_type": "subslide"
    }
   },
   "source": [
    "[Metal umlaut](https://en.wikipedia.org/wiki/Metal_umlaut) search and replace: replace all \"o\" with \"ö\" and \"u\" with \"ü\": return the new string and the number of replacements."
   ]
  },
  {
   "cell_type": "code",
   "execution_count": 15,
   "metadata": {},
   "outputs": [],
   "source": [
    "def metal_umlaut_search_replace(name):\n",
    "    new_name = \"\"\n",
    "    counter = 0\n",
    "    for char in name:\n",
    "        if char == \"o\":\n",
    "            char = \"ö\"\n",
    "            counter += 1\n",
    "        elif char == \"u\":\n",
    "            char = \"ü\"\n",
    "            counter += 1\n",
    "        new_name += char\n",
    "        \n",
    "    return new_name, counter     # returns the tuple (new_name, counter)"
   ]
  },
  {
   "cell_type": "code",
   "execution_count": 16,
   "metadata": {
    "slideshow": {
     "slide_type": "fragment"
    }
   },
   "outputs": [
    {
     "data": {
      "text/plain": [
       "('Mötely Crüe', 2)"
      ]
     },
     "execution_count": 16,
     "metadata": {},
     "output_type": "execute_result"
    }
   ],
   "source": [
    "metal_umlaut_search_replace(\"Motely Crue\")"
   ]
  },
  {
   "cell_type": "code",
   "execution_count": 17,
   "metadata": {
    "slideshow": {
     "slide_type": "subslide"
    }
   },
   "outputs": [],
   "source": [
    "retval = metal_umlaut_search_replace(\"Motely Crue\")"
   ]
  },
  {
   "cell_type": "code",
   "execution_count": 18,
   "metadata": {
    "slideshow": {
     "slide_type": "fragment"
    }
   },
   "outputs": [
    {
     "data": {
      "text/plain": [
       "tuple"
      ]
     },
     "execution_count": 18,
     "metadata": {},
     "output_type": "execute_result"
    }
   ],
   "source": [
    "type(retval)"
   ]
  },
  {
   "cell_type": "code",
   "execution_count": 19,
   "metadata": {
    "slideshow": {
     "slide_type": "fragment"
    }
   },
   "outputs": [
    {
     "data": {
      "text/plain": [
       "'Mötely Crüe'"
      ]
     },
     "execution_count": 19,
     "metadata": {},
     "output_type": "execute_result"
    }
   ],
   "source": [
    "retval[0]"
   ]
  },
  {
   "cell_type": "markdown",
   "metadata": {
    "slideshow": {
     "slide_type": "fragment"
    }
   },
   "source": [
    "Use *tuple unpacking* to get the returned values:"
   ]
  },
  {
   "cell_type": "code",
   "execution_count": 20,
   "metadata": {},
   "outputs": [
    {
     "name": "stdout",
     "output_type": "stream",
     "text": [
      "Mötely Crüe rocks 2 times harder now!\n"
     ]
    }
   ],
   "source": [
    "name, n = metal_umlaut_search_replace(\"Motely Crue\")\n",
    "print(name, \"rocks\", n, \"times harder now!\")"
   ]
  },
  {
   "cell_type": "markdown",
   "metadata": {
    "slideshow": {
     "slide_type": "subslide"
    }
   },
   "source": [
    "### Variable argument lists "
   ]
  },
  {
   "cell_type": "markdown",
   "metadata": {},
   "source": [
    "Functions have arguments in their _call signature_, e.g., the `x` in `def Heaviside(x)` or `x` and `y` in a function `area()`:"
   ]
  },
  {
   "cell_type": "code",
   "execution_count": 21,
   "metadata": {},
   "outputs": [],
   "source": [
    "def area(x, y):\n",
    "   \"\"\"Calculate area of rectangle with lengths x and y\"\"\"\n",
    "   return x*y"
   ]
  },
  {
   "cell_type": "markdown",
   "metadata": {
    "slideshow": {
     "slide_type": "subslide"
    }
   },
   "source": [
    " Add functionality: calculate the area when you scale the rectangle with a factor `scale`."
   ]
  },
  {
   "cell_type": "code",
   "execution_count": 22,
   "metadata": {
    "slideshow": {
     "slide_type": "fragment"
    }
   },
   "outputs": [],
   "source": [
    "def area(x, y, scale):\n",
    "   \"\"\"Calculate scaled area of rectangle with lengths x and y and scale factor scale\"\"\"\n",
    "   return scale*x*y"
   ]
  },
  {
   "cell_type": "markdown",
   "metadata": {
    "slideshow": {
     "slide_type": "fragment"
    }
   },
   "source": [
    "**Inconvenience**: even for unscaled rectangles I always have to provide `scale=1`, i.e.,\n",
    "```python\n",
    "area(Lx, Ly, 1)\n",
    "```"
   ]
  },
  {
   "cell_type": "markdown",
   "metadata": {
    "slideshow": {
     "slide_type": "subslide"
    }
   },
   "source": [
    "**Optional argument** with **default value**:"
   ]
  },
  {
   "cell_type": "code",
   "execution_count": 23,
   "metadata": {},
   "outputs": [],
   "source": [
    "def area(x, y, scale=1):\n",
    "   \"\"\"Calculate scaled area of rectangle with lengths `x` and `y`.\n",
    "   \n",
    "   scale factor `scale` defaults to 1\n",
    "   \"\"\"\n",
    "   return scale*x*y"
   ]
  },
  {
   "cell_type": "code",
   "execution_count": 24,
   "metadata": {
    "slideshow": {
     "slide_type": "fragment"
    }
   },
   "outputs": [
    {
     "name": "stdout",
     "output_type": "stream",
     "text": [
      "21.0\n",
      "10.5\n",
      "42.0\n"
     ]
    }
   ],
   "source": [
    "Lx, Ly = 2, 10.5\n",
    "print(area(Lx, Ly))             # uses scale=1\n",
    "print(area(Lx, Ly, scale=0.5))\n",
    "print(area(Lx, Ly, scale=2))"
   ]
  },
  {
   "cell_type": "code",
   "execution_count": 25,
   "metadata": {
    "slideshow": {
     "slide_type": "fragment"
    }
   },
   "outputs": [
    {
     "name": "stdout",
     "output_type": "stream",
     "text": [
      "42.0\n"
     ]
    }
   ],
   "source": [
    "print(area(Lx, Ly, 2))          # DISCOURAGED, use scale=2"
   ]
  },
  {
   "cell_type": "markdown",
   "metadata": {
    "slideshow": {
     "slide_type": "subslide"
    }
   },
   "source": [
    "#### Variable arguments summary\n",
    "```python\n",
    "def func(arg1, arg2, kwarg1=\"abc\", kwarg2=None, kwarg3=1):\n",
    "    ...\n",
    "```\n",
    "* *positional arguments* (`arg1`, `arg2`): \n",
    "    * all need to be provided when function is called: `func(a, b)`\n",
    "    * must be in given order\n",
    "* *keyword arguments* `kwarg1=\"abc\" ...`: \n",
    "    * optional; set to default if not provided\n",
    "    * no fixed order: `func(a, b, kwarg2=1000, kwarg1=\"other\")`\n",
    "\n",
    "See more under [More on Defining Functions](https://docs.python.org/3/tutorial/controlflow.html#more-on-defining-functions) in the Python Tutorial."
   ]
  },
  {
   "cell_type": "markdown",
   "metadata": {
    "slideshow": {
     "slide_type": "slide"
    }
   },
   "source": [
    "## Unit 6: Modules and packages "
   ]
  },
  {
   "cell_type": "markdown",
   "metadata": {},
   "source": [
    "_Modules_ (and _packages_) are **libraries** of reuseable code blocks (e.g. functions).\n",
    "\n",
    "Example: `math` module"
   ]
  },
  {
   "cell_type": "code",
   "execution_count": 26,
   "metadata": {
    "slideshow": {
     "slide_type": "fragment"
    }
   },
   "outputs": [
    {
     "data": {
      "text/plain": [
       "0.8660254037844386"
      ]
     },
     "execution_count": 26,
     "metadata": {},
     "output_type": "execute_result"
    }
   ],
   "source": [
    "import math\n",
    "math.sin(math.pi/3)"
   ]
  },
  {
   "cell_type": "markdown",
   "metadata": {
    "slideshow": {
     "slide_type": "subslide"
    }
   },
   "source": [
    "### Creating a module\n",
    "\n",
    "A module is just a file with Python code.\n"
   ]
  },
  {
   "cell_type": "markdown",
   "metadata": {
    "slideshow": {
     "slide_type": "fragment"
    }
   },
   "source": [
    "Create `physics.py` with content\n",
    "```python\n",
    "# PHY194 physics module\n",
    "\n",
    "pi = 3.14159\n",
    "h = 6.62606957e-34\n",
    "\n",
    "def Heaviside(x):\n",
    "    \"\"\"Heaviside function Theta(x)\"\"\"\n",
    "    if x < 0:\n",
    "        return 0\n",
    "    elif x > 0:\n",
    "        return 1\n",
    "    return 0.5\n",
    "```"
   ]
  },
  {
   "cell_type": "markdown",
   "metadata": {
    "slideshow": {
     "slide_type": "subslide"
    }
   },
   "source": [
    "### Importing "
   ]
  },
  {
   "cell_type": "markdown",
   "metadata": {},
   "source": [
    "Import it"
   ]
  },
  {
   "cell_type": "code",
   "execution_count": 27,
   "metadata": {},
   "outputs": [],
   "source": [
    "import physics"
   ]
  },
  {
   "cell_type": "markdown",
   "metadata": {
    "slideshow": {
     "slide_type": "fragment"
    }
   },
   "source": [
    "*Note*: `physics.py` must be in the same directory!"
   ]
  },
  {
   "cell_type": "markdown",
   "metadata": {
    "slideshow": {
     "slide_type": "subslide"
    }
   },
   "source": [
    "Access contents with the dot `.` operator:"
   ]
  },
  {
   "cell_type": "code",
   "execution_count": 28,
   "metadata": {},
   "outputs": [
    {
     "name": "stdout",
     "output_type": "stream",
     "text": [
      "1.0545726160956712e-34\n"
     ]
    }
   ],
   "source": [
    "two_pi = 2 * physics.pi\n",
    "h_bar = physics.h / two_pi\n",
    "print(h_bar)"
   ]
  },
  {
   "cell_type": "code",
   "execution_count": 29,
   "metadata": {
    "slideshow": {
     "slide_type": "fragment"
    }
   },
   "outputs": [
    {
     "data": {
      "text/plain": [
       "1"
      ]
     },
     "execution_count": 29,
     "metadata": {},
     "output_type": "execute_result"
    }
   ],
   "source": [
    "physics.Heaviside(2)"
   ]
  },
  {
   "cell_type": "markdown",
   "metadata": {
    "slideshow": {
     "slide_type": "subslide"
    }
   },
   "source": [
    "**Direct import** (use sparingly as it can become messy)"
   ]
  },
  {
   "cell_type": "code",
   "execution_count": 30,
   "metadata": {},
   "outputs": [
    {
     "name": "stdout",
     "output_type": "stream",
     "text": [
      "1.0545726160956712e-34\n"
     ]
    }
   ],
   "source": [
    "from physics import h, pi\n",
    "\n",
    "h_bar = h / (2*pi)\n",
    "\n",
    "print(h_bar)"
   ]
  },
  {
   "cell_type": "markdown",
   "metadata": {
    "slideshow": {
     "slide_type": "subslide"
    }
   },
   "source": [
    "**Aliased** import:"
   ]
  },
  {
   "cell_type": "code",
   "execution_count": 31,
   "metadata": {},
   "outputs": [
    {
     "name": "stdout",
     "output_type": "stream",
     "text": [
      "1.0545726160956712e-34\n"
     ]
    }
   ],
   "source": [
    "import physics as phy\n",
    "\n",
    "h_bar = phy.h / (2*phy.pi)\n",
    "\n",
    "print(h_bar)"
   ]
  },
  {
   "cell_type": "markdown",
   "metadata": {
    "slideshow": {
     "slide_type": "subslide"
    }
   },
   "source": [
    "### The Standard Library "
   ]
  },
  {
   "cell_type": "markdown",
   "metadata": {},
   "source": [
    "See [The Python Standard Library](https://docs.python.org/3/library/index.html)."
   ]
  }
 ],
 "metadata": {
  "celltoolbar": "Slideshow",
  "kernelspec": {
   "display_name": "Python 3",
   "language": "python",
   "name": "python3"
  },
  "language_info": {
   "codemirror_mode": {
    "name": "ipython",
    "version": 3
   },
   "file_extension": ".py",
   "mimetype": "text/x-python",
   "name": "python",
   "nbconvert_exporter": "python",
   "pygments_lexer": "ipython3",
   "version": "3.6.7"
  }
 },
 "nbformat": 4,
 "nbformat_minor": 2
}

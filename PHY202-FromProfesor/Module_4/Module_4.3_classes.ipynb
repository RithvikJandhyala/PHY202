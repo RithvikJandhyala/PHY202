{
 "cells": [
  {
   "cell_type": "markdown",
   "metadata": {},
   "source": [
    "# 4.3 Classes in Python "
   ]
  },
  {
   "cell_type": "markdown",
   "metadata": {},
   "source": [
    "## Objects\n",
    "\n",
    "Using functions is the most important way to write scientific\n",
    "code. The basic approach is to have blocks of code that take in data\n",
    "and return results; this is called *procedural programming*. But there\n",
    "is also another way in which data and functions are combined into\n",
    "something called an *object*, which leads to\n",
    "[object oriented programming](https://python.swaroopch.com/oop.html)\n",
    "(OOP). An object contains data (held in variables that are called\n",
    "*attributes*) and it also contains functions (called *methods*) that\n",
    "know how to operate on the data in the object.\n",
    "\n",
    "Python is an *object oriented* (OO) language and objects are\n",
    "everywhere --- in fact *everything* is an object in Python."
   ]
  },
  {
   "cell_type": "markdown",
   "metadata": {},
   "source": [
    "### Some Python objects\n",
    "Even if you don't use object-oriented programming, you still need to\n",
    "know how to work with Python objects. We look at a few examples.\n",
    "\n",
    "Each [built-in type](https://docs.python.org/3/library/stdtypes.html)\n",
    "(`int`, `float`, `str`, ...) is an object with associated *methods*\n",
    "and *attributes*."
   ]
  },
  {
   "cell_type": "markdown",
   "metadata": {},
   "source": [
    "#### Strings\n",
    "The text sequence --- or \"string\" --- type\n",
    "[`str`](https://docs.python.org/3/library/stdtypes.html#text-sequence-type-str)\n",
    "has [lots of string\n",
    "methods](https://docs.python.org/3/library/stdtypes.html#string-methods):"
   ]
  },
  {
   "cell_type": "code",
   "execution_count": 1,
   "metadata": {},
   "outputs": [],
   "source": [
    "sentence = \"may the force be with you!\""
   ]
  },
  {
   "cell_type": "code",
   "execution_count": 2,
   "metadata": {},
   "outputs": [
    {
     "data": {
      "text/plain": [
       "'May the force be with you!'"
      ]
     },
     "execution_count": 2,
     "metadata": {},
     "output_type": "execute_result"
    }
   ],
   "source": [
    "sentence.capitalize()"
   ]
  },
  {
   "cell_type": "code",
   "execution_count": 3,
   "metadata": {},
   "outputs": [
    {
     "data": {
      "text/plain": [
       "'MAY THE FORCE BE WITH YOU!'"
      ]
     },
     "execution_count": 3,
     "metadata": {},
     "output_type": "execute_result"
    }
   ],
   "source": [
    "sentence.upper()"
   ]
  },
  {
   "cell_type": "code",
   "execution_count": 4,
   "metadata": {},
   "outputs": [
    {
     "data": {
      "text/plain": [
       "2"
      ]
     },
     "execution_count": 4,
     "metadata": {},
     "output_type": "execute_result"
    }
   ],
   "source": [
    "sentence.count(\"o\")"
   ]
  },
  {
   "cell_type": "code",
   "execution_count": 5,
   "metadata": {},
   "outputs": [
    {
     "data": {
      "text/plain": [
       "False"
      ]
     },
     "execution_count": 5,
     "metadata": {},
     "output_type": "execute_result"
    }
   ],
   "source": [
    "sentence.isdigit()"
   ]
  },
  {
   "cell_type": "code",
   "execution_count": 6,
   "metadata": {},
   "outputs": [
    {
     "data": {
      "text/plain": [
       "'may the force be with us!'"
      ]
     },
     "execution_count": 6,
     "metadata": {},
     "output_type": "execute_result"
    }
   ],
   "source": [
    "sentence.replace(\"you\", \"us\")"
   ]
  },
  {
   "cell_type": "code",
   "execution_count": 7,
   "metadata": {},
   "outputs": [
    {
     "data": {
      "text/plain": [
       "['may', 'the', 'force', 'be', 'with', 'you!']"
      ]
     },
     "execution_count": 7,
     "metadata": {},
     "output_type": "execute_result"
    }
   ],
   "source": [
    "sentence.split()"
   ]
  },
  {
   "cell_type": "markdown",
   "metadata": {},
   "source": [
    "Note that you don't have to assign a string to a variable: the _string object itself contains the methods_:"
   ]
  },
  {
   "cell_type": "code",
   "execution_count": 8,
   "metadata": {},
   "outputs": [
    {
     "data": {
      "text/plain": [
       "'MAY THE FORCE BE WITH YOU!'"
      ]
     },
     "execution_count": 8,
     "metadata": {},
     "output_type": "execute_result"
    }
   ],
   "source": [
    "\"may the force be with you!\".upper()"
   ]
  },
  {
   "cell_type": "markdown",
   "metadata": {},
   "source": [
    "The output of many of these methods is again a string so one can\n",
    "easily concatenate or \"chain\" methods:"
   ]
  },
  {
   "cell_type": "code",
   "execution_count": 9,
   "metadata": {},
   "outputs": [
    {
     "data": {
      "text/plain": [
       "'May The Force Be With Us!'"
      ]
     },
     "execution_count": 9,
     "metadata": {},
     "output_type": "execute_result"
    }
   ],
   "source": [
    "sentence.replace(\"you\", \"us\").title()"
   ]
  },
  {
   "cell_type": "markdown",
   "metadata": {},
   "source": [
    "#### Lists\n",
    "The [`list`](https://docs.python.org/3/library/stdtypes.html#lists)\n",
    "type contains a [large number of useful\n",
    "methods](https://docs.python.org/3/library/stdtypes.html#mutable-sequence-types)\n",
    "that allow one to manipulate the list. Typically, all operations are\n",
    "done \"in place\", i.e., they change the list itself.\n"
   ]
  },
  {
   "cell_type": "code",
   "execution_count": 10,
   "metadata": {},
   "outputs": [
    {
     "name": "stdout",
     "output_type": "stream",
     "text": [
      "['Luke', 'Leia', 'Han', 'Chewie']\n"
     ]
    }
   ],
   "source": [
    "rebels = [\"Luke\", \"Leia\", \"Han\", \"Chewie\"]\n",
    "print(rebels)"
   ]
  },
  {
   "cell_type": "code",
   "execution_count": 11,
   "metadata": {},
   "outputs": [
    {
     "name": "stdout",
     "output_type": "stream",
     "text": [
      "['Luke', 'Leia', 'Han', 'Chewie', 'Lando']\n"
     ]
    }
   ],
   "source": [
    "rebels.append(\"Lando\")\n",
    "print(rebels)"
   ]
  },
  {
   "cell_type": "code",
   "execution_count": 12,
   "metadata": {},
   "outputs": [
    {
     "data": {
      "text/plain": [
       "'Lando'"
      ]
     },
     "execution_count": 12,
     "metadata": {},
     "output_type": "execute_result"
    }
   ],
   "source": [
    "rebels.pop()"
   ]
  },
  {
   "cell_type": "code",
   "execution_count": 13,
   "metadata": {},
   "outputs": [
    {
     "name": "stdout",
     "output_type": "stream",
     "text": [
      "['Luke', 'Leia', 'Han', 'Chewie']\n"
     ]
    }
   ],
   "source": [
    "print(rebels)"
   ]
  },
  {
   "cell_type": "code",
   "execution_count": 14,
   "metadata": {},
   "outputs": [
    {
     "name": "stdout",
     "output_type": "stream",
     "text": [
      "['Luke', 'Leia', 'Chewie']\n"
     ]
    }
   ],
   "source": [
    "rebels.remove(\"Han\")\n",
    "print(rebels)"
   ]
  },
  {
   "cell_type": "code",
   "execution_count": 15,
   "metadata": {},
   "outputs": [],
   "source": [
    "rebels.extend([\"R2D2\", \"C3PO\"])"
   ]
  },
  {
   "cell_type": "code",
   "execution_count": 16,
   "metadata": {},
   "outputs": [
    {
     "name": "stdout",
     "output_type": "stream",
     "text": [
      "['Luke', 'Leia', 'Chewie', 'R2D2', 'C3PO']\n"
     ]
    }
   ],
   "source": [
    "print(rebels)"
   ]
  },
  {
   "cell_type": "code",
   "execution_count": 17,
   "metadata": {},
   "outputs": [
    {
     "name": "stdout",
     "output_type": "stream",
     "text": [
      "['C3PO', 'R2D2', 'Chewie', 'Leia', 'Luke']\n"
     ]
    }
   ],
   "source": [
    "rebels.reverse()\n",
    "print(rebels)"
   ]
  },
  {
   "cell_type": "code",
   "execution_count": 18,
   "metadata": {},
   "outputs": [
    {
     "name": "stdout",
     "output_type": "stream",
     "text": [
      "['C3PO', 'Chewie', 'Leia', 'Luke', 'R2D2']\n"
     ]
    }
   ],
   "source": [
    "rebels.sort()\n",
    "print(rebels)"
   ]
  },
  {
   "cell_type": "code",
   "execution_count": 19,
   "metadata": {},
   "outputs": [
    {
     "name": "stdout",
     "output_type": "stream",
     "text": [
      "['C3PO', 'Chewie', 'Han', 'Leia', 'Luke', 'R2D2']\n"
     ]
    }
   ],
   "source": [
    "rebels.insert(2, \"Han\")\n",
    "print(rebels)"
   ]
  },
  {
   "cell_type": "code",
   "execution_count": 20,
   "metadata": {},
   "outputs": [
    {
     "name": "stdout",
     "output_type": "stream",
     "text": [
      "[]\n"
     ]
    }
   ],
   "source": [
    "rebels.clear()\n",
    "print(rebels)"
   ]
  },
  {
   "cell_type": "markdown",
   "metadata": {},
   "source": [
    "## Creating objects: classes\n",
    "\n",
    "In Python one creates an object by first defining a\n",
    "[class](https://docs.python.org/3/tutorial/classes.html#a-first-look-at-classes):\n"
   ]
  },
  {
   "cell_type": "code",
   "execution_count": 21,
   "metadata": {},
   "outputs": [],
   "source": [
    "import math\n",
    "\n",
    "class Sphere:\n",
    "    \"\"\"A simple sphere.\"\"\"\n",
    " \n",
    "    def __init__(self, pos, radius=1):\n",
    "        self.pos = tuple(pos)\n",
    "        self.radius = float(radius)\n",
    "\n",
    "    def volume(self):\n",
    "        return 4/3 * math.pi * self.radius**3\n",
    "\n",
    "    def translate(self, t):\n",
    "        self.pos = tuple(xi + ti for xi, ti in zip(self.pos, t))\n"
   ]
  },
  {
   "cell_type": "markdown",
   "metadata": {},
   "source": [
    "and then *instantiating* the object (creating an instance of the class)"
   ]
  },
  {
   "cell_type": "code",
   "execution_count": 22,
   "metadata": {},
   "outputs": [],
   "source": [
    "ball = Sphere((0, 0, 10), radius=2)"
   ]
  },
  {
   "cell_type": "markdown",
   "metadata": {},
   "source": [
    "Notes on the class definition above:\n",
    "\n",
    "* `__init__()` is a special [method](#attributes-and-methods) that is\n",
    "  called when the class is instantiated: it is used to populate the\n",
    "  object with user-defined values.\n",
    "* The first argument of each [method](#attributes-and-methods)\n",
    "  (including `__init__()`) is always\n",
    "  called `self` and refers to the class itself.\n",
    "* So-called instance [attributes](#attributes-and-methods) are created with\n",
    "  `self.ATTRIBUTE_NAME`, e.g., `self.pos`.\n",
    "* [Methods](#attributes-and-methods) are defined just like ordinary\n",
    "  Python [functions](#functions) except that the first argument is `self`.\n"
   ]
  },
  {
   "cell_type": "markdown",
   "metadata": {},
   "source": [
    "In this example we created an object named `ball`, which is of type\n",
    "`Sphere`:"
   ]
  },
  {
   "cell_type": "code",
   "execution_count": 23,
   "metadata": {},
   "outputs": [
    {
     "data": {
      "text/plain": [
       "__main__.Sphere"
      ]
     },
     "execution_count": 23,
     "metadata": {},
     "output_type": "execute_result"
    }
   ],
   "source": [
    " type(ball)"
   ]
  },
  {
   "cell_type": "markdown",
   "metadata": {},
   "source": [
    "Note: It is convenient to put the class definition into a separate module, let's say `bodies.py`, and then you can import the class definitions as\n",
    "```python\n",
    "from bodies import Sphere\n",
    "```\n",
    "This tends to be more manageable than working interactively and it is an excellent way to modularize code."
   ]
  },
  {
   "cell_type": "markdown",
   "metadata": {},
   "source": [
    "## Attributes and Methods\n",
    "\n",
    "Objects contain **attributes** (variables that are associated with the\n",
    "object) and **methods** (functions that are associated with the\n",
    "object). Attributes and methods are accessed with the \"dot\"\n",
    "operator. (Within the *class definition*, attributes and methods are\n",
    "also accessed with the dot-operator but the class itself is referred\n",
    "to as `self` --- this is just the first argument in each method and\n",
    "*you should always, always name it \"self\"*.)\n",
    "\n",
    "In the example, `pos` and `radius` are\n",
    "attributes, and can be accessed as `ball.pos` and `ball.radius`. For\n",
    "instance, the `Sphere` object named `ball` has position\n"
   ]
  },
  {
   "cell_type": "code",
   "execution_count": 24,
   "metadata": {},
   "outputs": [
    {
     "data": {
      "text/plain": [
       "(0, 0, 10)"
      ]
     },
     "execution_count": 24,
     "metadata": {},
     "output_type": "execute_result"
    }
   ],
   "source": [
    "ball.pos"
   ]
  },
  {
   "cell_type": "code",
   "execution_count": 25,
   "metadata": {},
   "outputs": [
    {
     "data": {
      "text/plain": [
       "2.0"
      ]
     },
     "execution_count": 25,
     "metadata": {},
     "output_type": "execute_result"
    }
   ],
   "source": [
    "ball.radius"
   ]
  },
  {
   "cell_type": "markdown",
   "metadata": {},
   "source": [
    "because we provided the `pos` argument `(0, 0, 10)` on\n",
    "instantiation. Similarly, we created a ball with radius 2.\n"
   ]
  },
  {
   "cell_type": "markdown",
   "metadata": {},
   "source": [
    "One can assign to these attributes as usual, e.g., directly change the position "
   ]
  },
  {
   "cell_type": "code",
   "execution_count": 26,
   "metadata": {},
   "outputs": [
    {
     "data": {
      "text/plain": [
       "(-5, 0, 0)"
      ]
     },
     "execution_count": 26,
     "metadata": {},
     "output_type": "execute_result"
    }
   ],
   "source": [
    "ball.pos = (-5, 0, 0)\n",
    "ball.pos"
   ]
  },
  {
   "cell_type": "markdown",
   "metadata": {},
   "source": [
    "The `Sphere.volume()` method computes the volume of the sphere:"
   ]
  },
  {
   "cell_type": "code",
   "execution_count": 27,
   "metadata": {},
   "outputs": [
    {
     "data": {
      "text/plain": [
       "33.510321638291124"
      ]
     },
     "execution_count": 27,
     "metadata": {},
     "output_type": "execute_result"
    }
   ],
   "source": [
    "ball.volume()"
   ]
  },
  {
   "cell_type": "markdown",
   "metadata": {},
   "source": [
    "Note that even though the method has the first argument `self` in its definition, we do not provide it when the method is called! This is special behavior for methods."
   ]
  },
  {
   "cell_type": "markdown",
   "metadata": {},
   "source": [
    "The `Sphere.translate()` method changes the position of the object by\n",
    "adding a translation vector `t` to `Sphere.pos`:\n"
   ]
  },
  {
   "cell_type": "code",
   "execution_count": 28,
   "metadata": {},
   "outputs": [
    {
     "data": {
      "text/plain": [
       "(0, 0, 0)"
      ]
     },
     "execution_count": 28,
     "metadata": {},
     "output_type": "execute_result"
    }
   ],
   "source": [
    "ball.translate((5, 0, 0))\n",
    "ball.pos"
   ]
  },
  {
   "cell_type": "markdown",
   "metadata": {},
   "source": [
    "Note that this method did not return any values but it changed the\n",
    "data in `Sphere.pos`."
   ]
  },
  {
   "cell_type": "markdown",
   "metadata": {},
   "source": [
    "## Independence of instances\n",
    "\n",
    "Each instance of a class is independent from the other instances. For\n",
    "example, `ball` and a new `balloon` can be moved independently\n",
    "even though we start them at the same position:"
   ]
  },
  {
   "cell_type": "code",
   "execution_count": 29,
   "metadata": {},
   "outputs": [],
   "source": [
    "ball = Sphere((0, 0, 10), radius=2)\n",
    "balloon = Sphere((0, 0, 10), radius=6)\n",
    "\n",
    "ball.pos = (-1, -1, 0)"
   ]
  },
  {
   "cell_type": "code",
   "execution_count": 30,
   "metadata": {},
   "outputs": [
    {
     "name": "stdout",
     "output_type": "stream",
     "text": [
      "(-1, -1, 0) (0, 0, 10)\n"
     ]
    }
   ],
   "source": [
    "print(ball.pos, balloon.pos)"
   ]
  },
  {
   "cell_type": "markdown",
   "metadata": {},
   "source": [
    "## Inheritance\n",
    "\n",
    "New classes can be built on existing classes in such a way that the\n",
    "new class contains the functionality of the existing class. This is\n",
    "called *inheritance* and is a very powerful way to organize large code\n",
    "bases.\n",
    "\n",
    "Only a small example is given to illustrate the basic idea: We use our\n",
    "`Sphere` class to create planets. A planet is (almost) a sphere but it\n",
    "also has a name and a mass: The new `Planet` class inherits from\n",
    "`Sphere` by supplying `Sphere` as an argument to `Planet`:\n"
   ]
  },
  {
   "cell_type": "code",
   "execution_count": 31,
   "metadata": {},
   "outputs": [],
   "source": [
    "class Planet(Sphere):\n",
    "    def __init__(self, name, pos, mass, radius):\n",
    "        self.name = str(name)\n",
    "        self.pos = tuple(pos)\n",
    "        self.mass = float(mass)\n",
    "        self.radius = float(radius)\n",
    "\n",
    "    def density(self):\n",
    "        \"\"\"Compute density of the planet\"\"\"\n",
    "        return self.mass / self.volume()"
   ]
  },
  {
   "cell_type": "code",
   "execution_count": 32,
   "metadata": {},
   "outputs": [
    {
     "name": "stdout",
     "output_type": "stream",
     "text": [
      "5513.442083060875\n"
     ]
    }
   ],
   "source": [
    "# quantities from http://www.wolframalpha.com\n",
    "# lengths in m and mass in kg\n",
    "earth = Planet(\"Earth\", (1.4959802296e11 , 0, 0), 5.9721986e24, 6371e3)\n",
    "print(earth.density())"
   ]
  },
  {
   "cell_type": "markdown",
   "metadata": {},
   "source": [
    "gives 5513 kg/m<sup>3</sup> because the `Planet` class inherited the\n",
    "`volume()` method from `Sphere`."
   ]
  },
  {
   "cell_type": "code",
   "execution_count": null,
   "metadata": {},
   "outputs": [],
   "source": []
  }
 ],
 "metadata": {
  "kernelspec": {
   "display_name": "Python 3",
   "language": "python",
   "name": "python3"
  },
  "language_info": {
   "codemirror_mode": {
    "name": "ipython",
    "version": 3
   },
   "file_extension": ".py",
   "mimetype": "text/x-python",
   "name": "python",
   "nbconvert_exporter": "python",
   "pygments_lexer": "ipython3",
   "version": "3.6.7"
  }
 },
 "nbformat": 4,
 "nbformat_minor": 2
}

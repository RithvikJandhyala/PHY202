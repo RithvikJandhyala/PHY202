{
 "cells": [
  {
   "cell_type": "code",
   "execution_count": 1,
   "id": "ff04719d",
   "metadata": {},
   "outputs": [],
   "source": [
    "def sinc(x):\n",
    " \"\"\"sinc(x) = sin(x)/x function (x in rad)\"\"\"\n",
    " return math.sin(x)/x if x != 0 else 1"
   ]
  },
  {
   "cell_type": "code",
   "execution_count": 3,
   "id": "0395b212",
   "metadata": {},
   "outputs": [],
   "source": [
    "import math\n",
    "X = [0.1*math.pi*i for i in range(-50, 51)]"
   ]
  },
  {
   "cell_type": "code",
   "execution_count": 4,
   "id": "5a2836c4",
   "metadata": {},
   "outputs": [],
   "source": [
    "Y=[sinc(x) for x in X]"
   ]
  },
  {
   "cell_type": "code",
   "execution_count": 5,
   "id": "41d49f4f",
   "metadata": {},
   "outputs": [
    {
     "data": {
      "text/plain": [
       "[3.898171832519376e-17,\n",
       " 0.020074115164968733,\n",
       " 0.03897872015785999,\n",
       " 0.054791086680902566,\n",
       " 0.06581101988179627,\n",
       " 0.0707355302630646,\n",
       " 0.06880242987642335,\n",
       " 0.05988793195354462,\n",
       " 0.044547108751839926,\n",
       " 0.02399101568496255,\n",
       " -3.8981718325193755e-17,\n",
       " -0.025221324181627373,\n",
       " -0.04923627809413893,\n",
       " -0.0695994884865519,\n",
       " -0.0840918587378508,\n",
       " -0.09094568176679733,\n",
       " -0.0890384386636067,\n",
       " -0.07803579012128542,\n",
       " -0.05846808023678991,\n",
       " -0.03173005300269242,\n",
       " 3.8981718325193755e-17,\n",
       " 0.033918332520119554,\n",
       " 0.06682066312775996,\n",
       " 0.09537707681490444,\n",
       " 0.11643488132933186,\n",
       " 0.12732395447351627,\n",
       " 0.12613778810677617,\n",
       " 0.1119643945218443,\n",
       " 0.0850444803444217,\n",
       " 0.046839602051593585,\n",
       " -3.8981718325193755e-17,\n",
       " -0.0517700864780772,\n",
       " -0.10394325375429327,\n",
       " -0.15148123964720117,\n",
       " -0.18920668216016426,\n",
       " -0.2122065907891938,\n",
       " -0.21623620818304484,\n",
       " -0.19809085184633993,\n",
       " -0.15591488063143982,\n",
       " -0.08942105846213323,\n",
       " 3.8981718325193755e-17,\n",
       " 0.10929240478705181,\n",
       " 0.23387232094715982,\n",
       " 0.3678830105717742,\n",
       " 0.5045511524271047,\n",
       " 0.6366197723675814,\n",
       " 0.756826728640657,\n",
       " 0.8583936913341398,\n",
       " 0.935489283788639,\n",
       " 0.983631643083466,\n",
       " 1,\n",
       " 0.983631643083466,\n",
       " 0.935489283788639,\n",
       " 0.8583936913341398,\n",
       " 0.756826728640657,\n",
       " 0.6366197723675814,\n",
       " 0.5045511524271047,\n",
       " 0.3678830105717742,\n",
       " 0.23387232094715982,\n",
       " 0.10929240478705181,\n",
       " 3.8981718325193755e-17,\n",
       " -0.08942105846213323,\n",
       " -0.15591488063143982,\n",
       " -0.19809085184633993,\n",
       " -0.21623620818304484,\n",
       " -0.2122065907891938,\n",
       " -0.18920668216016426,\n",
       " -0.15148123964720117,\n",
       " -0.10394325375429327,\n",
       " -0.0517700864780772,\n",
       " -3.8981718325193755e-17,\n",
       " 0.046839602051593585,\n",
       " 0.0850444803444217,\n",
       " 0.1119643945218443,\n",
       " 0.12613778810677617,\n",
       " 0.12732395447351627,\n",
       " 0.11643488132933186,\n",
       " 0.09537707681490444,\n",
       " 0.06682066312775996,\n",
       " 0.033918332520119554,\n",
       " 3.8981718325193755e-17,\n",
       " -0.03173005300269242,\n",
       " -0.05846808023678991,\n",
       " -0.07803579012128542,\n",
       " -0.0890384386636067,\n",
       " -0.09094568176679733,\n",
       " -0.0840918587378508,\n",
       " -0.0695994884865519,\n",
       " -0.04923627809413893,\n",
       " -0.025221324181627373,\n",
       " -3.8981718325193755e-17,\n",
       " 0.02399101568496255,\n",
       " 0.044547108751839926,\n",
       " 0.05988793195354462,\n",
       " 0.06880242987642335,\n",
       " 0.0707355302630646,\n",
       " 0.06581101988179627,\n",
       " 0.054791086680902566,\n",
       " 0.03897872015785999,\n",
       " 0.020074115164968733,\n",
       " 3.898171832519376e-17]"
      ]
     },
     "execution_count": 5,
     "metadata": {},
     "output_type": "execute_result"
    }
   ],
   "source": [
    "Y"
   ]
  },
  {
   "cell_type": "code",
   "execution_count": 11,
   "id": "7f36f5c0",
   "metadata": {},
   "outputs": [
    {
     "data": {
      "text/plain": [
       "Text(0, 0.5, 'y')"
      ]
     },
     "execution_count": 11,
     "metadata": {},
     "output_type": "execute_result"
    },
    {
     "data": {
      "image/png": "[encoded data removed]",
      "text/plain": [
       "<Figure size 432x288 with 1 Axes>"
      ]
     },
     "metadata": {
      "needs_background": "light"
     },
     "output_type": "display_data"
    }
   ],
   "source": [
    "import matplotlib.pyplot as plt\n",
    "plt.plot(X,Y,marker = \".\")\n",
    "plt.xlabel(\"x\")\n",
    "plt.ylabel(\"y\")"
   ]
  },
  {
   "cell_type": "code",
   "execution_count": 12,
   "id": "eabd734f",
   "metadata": {},
   "outputs": [],
   "source": [
    "plt.show()"
   ]
  },
  {
   "cell_type": "code",
   "execution_count": 1,
   "id": "3f4d2057",
   "metadata": {},
   "outputs": [
    {
     "name": "stdout",
     "output_type": "stream",
     "text": [
      "2\n"
     ]
    }
   ],
   "source": [
    "print(2)"
   ]
  },
  {
   "cell_type": "code",
   "execution_count": null,
   "id": "06d186b9",
   "metadata": {},
   "outputs": [],
   "source": []
  },
  {
   "cell_type": "code",
   "execution_count": null,
   "id": "5cc990cd",
   "metadata": {},
   "outputs": [],
   "source": []
  }
 ],
 "metadata": {
  "kernelspec": {
   "display_name": "Python 3 (ipykernel)",
   "language": "python",
   "name": "python3"
  },
  "language_info": {
   "codemirror_mode": {
    "name": "ipython",
    "version": 3
   },
   "file_extension": ".py",
   "mimetype": "text/x-python",
   "name": "python",
   "nbconvert_exporter": "python",
   "pygments_lexer": "ipython3",
   "version": "3.9.7"
  }
 },
 "nbformat": 4,
 "nbformat_minor": 5
}

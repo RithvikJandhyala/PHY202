{
 "cells": [
  {
   "cell_type": "code",
   "execution_count": 1,
   "id": "e782b45c",
   "metadata": {},
   "outputs": [],
   "source": [
    "import numpy as np\n",
    "import math\n",
    "import matplotlib.pyplot as plt\n"
   ]
  },
  {
   "cell_type": "code",
   "execution_count": 2,
   "id": "8e8e2a1e",
   "metadata": {},
   "outputs": [],
   "source": [
    "# constants\n",
    "\n",
    "G = 4*np.pi**2\n",
    "\n",
    "mass = {\n",
    "    'sun': 1.0,\n",
    "    'earth': 3.0034e-6,\n",
    "    'moon': 3.6923e-7}\n",
    "\n",
    "r0 = {\n",
    "    'sun': np.array([0,0,0]),\n",
    "    'earth': np.array([9.978977040419635E-01, 6.586825681892025E-02, -6.320430920521123E-06]),\n",
    "    'moon': np.array([9.956768547953816E-01, 6.676030485840675E-02, 1.641093070596718E-04])\n",
    "     }\n",
    "v0 = {\n",
    "    'sun': np.array([0,0,0]),\n",
    "    'earth': np.array([-4.70015711e-01, 6.25165839e+00, -3.40817831e-04]),\n",
    "    'moon': np.array([-0.55065949, 6.03534661, 0.01111456])\n",
    "}"
   ]
  },
  {
   "cell_type": "code",
   "execution_count": 3,
   "id": "5893e612",
   "metadata": {},
   "outputs": [],
   "source": [
    "# functions\n",
    "def F_gravity(ri, rj, mi, mj):\n",
    "    rij = ri - rj\n",
    "    \n",
    "    scalarrij = math.sqrt(np.dot(rij,rij))\n",
    "    \n",
    "    unitvector = rij/scalarrij\n",
    "    \n",
    "    return (-G*mi*mj*unitvector)/(scalarrij**2)\n",
    "\n",
    "def F_ES(rE):\n",
    "    return F_gravity(rE,r0[\"sun\"],mass[\"earth\"],mass[\"sun\"])\n",
    "\n",
    "\n",
    "def integrate_earth(tmax, dt=1e-3):\n",
    "    i = 0\n",
    "    r = r0[\"earth\"]\n",
    "    v = v0[\"earth\"]\n",
    "    r_values = [r0[\"earth\"]]\n",
    "    while i <= tmax:\n",
    "        r = r + v*dt\n",
    "        v += (F_ES(r)*dt)/mass[\"earth\"]\n",
    "        r_values.append(r.copy())\n",
    "        i += dt\n",
    "    return r_values\n"
   ]
  },
  {
   "cell_type": "code",
   "execution_count": 4,
   "id": "c57fe7fe",
   "metadata": {},
   "outputs": [],
   "source": [
    "filename = \"EARTH_horizons_results.txt\" \n",
    "f = open(filename).readlines()\n",
    "# populate 'positions'\n",
    "lines = []\n",
    "#print(f[56])\n",
    "newpos = []\n",
    "positions = np.zeros((1001,3))"
   ]
  },
  {
   "cell_type": "code",
   "execution_count": 5,
   "id": "05582405",
   "metadata": {},
   "outputs": [],
   "source": [
    "for i in range(56,1057):\n",
    "    lines.append(f[i])\n",
    "for i in range(len(lines)):\n",
    "    extract = lines[i].split(\",\")\n",
    "    newpos.append([float(extract[2]),float(extract[3]),float(extract[4])])\n",
    "    \n",
    "for x in range(len(newpos)):\n",
    "    positions[x][0] = newpos[x][0]\n",
    "    positions[x][1] = newpos[x][1]\n",
    "    positions[x][2] = newpos[x][2]\n",
    "    "
   ]
  },
  {
   "cell_type": "code",
   "execution_count": 6,
   "id": "88ae222e",
   "metadata": {},
   "outputs": [],
   "source": [
    "xNASA = []\n",
    "yNASA = []\n",
    "orbit = integrate_earth(1)\n",
    "x = []\n",
    "y = []"
   ]
  },
  {
   "cell_type": "code",
   "execution_count": 7,
   "id": "487e0aa0",
   "metadata": {},
   "outputs": [],
   "source": [
    "for i in range(len(positions)):\n",
    "    xNASA.append(positions[i][0])\n",
    "    yNASA.append(positions[i][1])\n",
    "for i in range(len(orbit)):\n",
    "    x.append(orbit[i][0])\n",
    "    y.append(orbit[i][1])"
   ]
  },
  {
   "cell_type": "code",
   "execution_count": 12,
   "id": "c2fc98e7",
   "metadata": {},
   "outputs": [
    {
     "data": {
      "image/png": "[encoded data removed]",
      "text/plain": [
       "<Figure size 432x288 with 1 Axes>"
      ]
     },
     "metadata": {
      "needs_background": "light"
     },
     "output_type": "display_data"
    }
   ],
   "source": [
    "plt.figure()\n",
    "plt.gca().set_aspect(\"equal\") \n",
    "\n",
    "o1 = plt.plot(xNASA,yNASA,color = \"red\",label = \"NASA\")\n",
    "o2 = plt.plot(x,y,\"b--\",label = \"Euler\")\n",
    "plt.xlabel(\"x (AU)\")\n",
    "plt.ylabel(\"y (AU)\")\n",
    "plt.legend()\n",
    "plt.grid()\n",
    "plt.show()"
   ]
  },
  {
   "cell_type": "code",
   "execution_count": null,
   "id": "fc46a856",
   "metadata": {},
   "outputs": [],
   "source": []
  }
 ],
 "metadata": {
  "kernelspec": {
   "display_name": "Python 3 (ipykernel)",
   "language": "python",
   "name": "python3"
  },
  "language_info": {
   "codemirror_mode": {
    "name": "ipython",
    "version": 3
   },
   "file_extension": ".py",
   "mimetype": "text/x-python",
   "name": "python",
   "nbconvert_exporter": "python",
   "pygments_lexer": "ipython3",
   "version": "3.9.7"
  }
 },
 "nbformat": 4,
 "nbformat_minor": 5
}

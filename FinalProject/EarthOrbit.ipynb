{
 "cells": [
  {
   "cell_type": "code",
   "execution_count": 2,
   "id": "576e1d55",
   "metadata": {},
   "outputs": [],
   "source": [
    "import numpy as np\n",
    "import math\n",
    "import matplotlib.pyplot as plt"
   ]
  },
  {
   "cell_type": "code",
   "execution_count": 3,
   "id": "f56d9d12",
   "metadata": {},
   "outputs": [],
   "source": [
    "# constants\n",
    "\n",
    "G = 4*np.pi**2\n",
    "\n",
    "mass = {\n",
    "    'sun': 1.0,\n",
    "    'earth': 3.0034e-6,\n",
    "    'moon': 3.6923e-7}\n",
    "\n",
    "r0 = {\n",
    "    'sun': np.array([0,0,0]),\n",
    "    'earth': np.array([9.978977040419635E-01, 6.586825681892025E-02, -6.320430920521123E-06]),\n",
    "    'moon': np.array([9.956768547953816E-01, 6.676030485840675E-02, 1.641093070596718E-04])\n",
    "     }\n",
    "v0 = {\n",
    "    'sun': np.array([0,0,0]),\n",
    "    'earth': np.array([-4.70015711e-01, 6.25165839e+00, -3.40817831e-04]),\n",
    "    'moon': np.array([-0.55065949, 6.03534661, 0.01111456])\n",
    "}\n"
   ]
  },
  {
   "cell_type": "code",
   "execution_count": 4,
   "id": "34062f7f",
   "metadata": {},
   "outputs": [],
   "source": [
    "# functions\n",
    "def F_gravity(ri, rj, mi, mj):\n",
    "    rij = ri - rj\n",
    "    \n",
    "    scalarrij = math.sqrt(np.dot(rij,rij))\n",
    "    \n",
    "    unitvector = rij/scalarrij\n",
    "    \n",
    "    return (-G*mi*mj*unitvector)/(scalarrij**2)\n",
    "\n",
    "def F_ES(rE):\n",
    "    return F_gravity(rE,r0[\"sun\"],mass[\"earth\"],mass[\"sun\"])\n",
    "\n",
    "\n",
    "def integrate_earth(tmax, dt=1e-3):\n",
    "    i = 0\n",
    "    r = r0[\"earth\"]\n",
    "    v = v0[\"earth\"]\n",
    "    r_values = [r0[\"earth\"]]\n",
    "    while i <= tmax:\n",
    "        r = r + v*dt\n",
    "        v += (F_ES(r)*dt)/mass[\"earth\"]\n",
    "        r_values.append(r.copy())\n",
    "        i += dt\n",
    "    return r_values\n"
   ]
  },
  {
   "cell_type": "code",
   "execution_count": 5,
   "id": "34f6f2f1",
   "metadata": {},
   "outputs": [
    {
     "name": "stdout",
     "output_type": "stream",
     "text": [
      "0.06586825681892025\n"
     ]
    },
    {
     "data": {
      "image/png": "[encoded data removed]",
      "text/plain": [
       "<Figure size 432x288 with 1 Axes>"
      ]
     },
     "metadata": {
      "needs_background": "light"
     },
     "output_type": "display_data"
    },
    {
     "data": {
      "text/plain": [
       "<Figure size 432x288 with 0 Axes>"
      ]
     },
     "metadata": {},
     "output_type": "display_data"
    }
   ],
   "source": [
    "plt.figure()\n",
    "plt.gca().set_aspect(\"equal\") \n",
    "plt.plot(r0[\"earth\"][0],r0[\"earth\"][1], \"r^\")\n",
    "\n",
    "orbit = integrate_earth(1)\n",
    "x = []\n",
    "y = []\n",
    "print(orbit[0][1])\n",
    "\n",
    "for i in range(len(orbit)):\n",
    "    x.append(orbit[i][0])\n",
    "    y.append(orbit[i][1])\n",
    "plt.plot(x,y,color = \"red\")\n",
    "plt.xlabel(\"x (AU)\")\n",
    "plt.ylabel(\"y (AU)\")\n",
    "plt.grid()\n",
    "plt.show()\n",
    "plt.savefig('orbit_earth_only.png')"
   ]
  },
  {
   "cell_type": "code",
   "execution_count": null,
   "id": "349919a3",
   "metadata": {},
   "outputs": [],
   "source": []
  }
 ],
 "metadata": {
  "kernelspec": {
   "display_name": "Python 3 (ipykernel)",
   "language": "python",
   "name": "python3"
  },
  "language_info": {
   "codemirror_mode": {
    "name": "ipython",
    "version": 3
   },
   "file_extension": ".py",
   "mimetype": "text/x-python",
   "name": "python",
   "nbconvert_exporter": "python",
   "pygments_lexer": "ipython3",
   "version": "3.9.7"
  }
 },
 "nbformat": 4,
 "nbformat_minor": 5
}

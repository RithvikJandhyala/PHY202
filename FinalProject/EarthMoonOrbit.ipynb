{
 "cells": [
  {
   "cell_type": "code",
   "execution_count": 2,
   "id": "5e64269e",
   "metadata": {},
   "outputs": [],
   "source": [
    "# add necessary imports\n",
    "import numpy as np\n",
    "import math\n",
    "import matplotlib.pyplot as plt"
   ]
  },
  {
   "cell_type": "code",
   "execution_count": 3,
   "id": "a7fbfc8c",
   "metadata": {},
   "outputs": [],
   "source": [
    "# constants\n",
    "\n",
    "G = 4*np.pi**2\n",
    "\n",
    "mass = {\n",
    "    'sun': 1.0,\n",
    "    'earth': 3.0034e-6,\n",
    "    'moon': 3.6923e-7}\n",
    "\n",
    "r0 = {\n",
    "    'sun': np.array([0,0,0]),\n",
    "    'earth': np.array([9.978977040419635E-01, 6.586825681892025E-02, -6.320430920521123E-06]),\n",
    "    'moon': np.array([9.956768547953816E-01, 6.676030485840675E-02, 1.641093070596718E-04])\n",
    "     }\n",
    "v0 = {\n",
    "    'sun': np.array([0,0,0]),\n",
    "    'earth': np.array([-4.70015711e-01, 6.25165839e+00, -3.40817831e-04]),\n",
    "    'moon': np.array([-0.55065949, 6.03534661, 0.01111456])\n",
    "}\n"
   ]
  },
  {
   "cell_type": "code",
   "execution_count": 4,
   "id": "0d75e1f4",
   "metadata": {},
   "outputs": [],
   "source": [
    "# functions\n",
    "def F_gravity(ri, rj, mi, mj):\n",
    "    rij = ri - rj\n",
    "    \n",
    "    scalarrij = math.sqrt(np.dot(rij,rij))\n",
    "    \n",
    "    unitvector = rij/scalarrij\n",
    "    \n",
    "    return (-G*mi*mj*unitvector)/(scalarrij**2)\n",
    "\n",
    "def F_ES(rE):\n",
    "    return F_gravity(rE,r0[\"sun\"],mass[\"earth\"],mass[\"sun\"])\n",
    "\n",
    "def F_EM(rE,rM):\n",
    "    return F_gravity(rE,rM,mass[\"earth\"],mass[\"moon\"])\n",
    "def F_ME(rE,rM):\n",
    "    return -F_EM(rE,rM)\n",
    "def F_MS(rM):\n",
    "    return F_gravity(rM,r0[\"sun\"],mass[\"moon\"],mass[\"sun\"])\n",
    "def F_E(rE, rM):\n",
    "    return F_ES(rE)+ F_EM(rE,rM)\n",
    "def F_M(rE, rM):\n",
    "    return F_MS(rM)+ F_ME(rE,rM)\n",
    "\n",
    "def integrate_EM(tmax, dt=1e-3):\n",
    "    i = 0\n",
    "    rE = r0[\"earth\"]\n",
    "    vE = v0[\"earth\"]\n",
    "    rM = r0[\"moon\"]\n",
    "    vM = v0[\"moon\"]\n",
    "    rE_values = [r0[\"earth\"]]\n",
    "    rM_values = [r0[\"moon\"]]\n",
    "    while i <= tmax:\n",
    "        rE = rE + vE*dt\n",
    "        rM = rM + vM*dt\n",
    "        vE += (F_E(rE,rM)*dt)/mass[\"earth\"]\n",
    "        vM += (F_M(rE,rM)*dt)/mass[\"moon\"]\n",
    "        rE_values.append(rE.copy())\n",
    "        rM_values.append(rM.copy())\n",
    "        i += dt\n",
    "    return (rE_values,rM_values)\n"
   ]
  },
  {
   "cell_type": "code",
   "execution_count": 5,
   "id": "a5b688c3",
   "metadata": {},
   "outputs": [
    {
     "data": {
      "image/png": "[encoded data removed]",
      "text/plain": [
       "<Figure size 432x288 with 1 Axes>"
      ]
     },
     "metadata": {
      "needs_background": "light"
     },
     "output_type": "display_data"
    },
    {
     "data": {
      "text/plain": [
       "<Figure size 432x288 with 0 Axes>"
      ]
     },
     "metadata": {},
     "output_type": "display_data"
    }
   ],
   "source": [
    "if __name__ == \"__main__\":\n",
    "    plt.figure()\n",
    "    plt.gca().set_aspect(\"equal\") \n",
    "    \n",
    "    orbit2 = integrate_EM(1)\n",
    "    xE = []\n",
    "    yE = []\n",
    "    xM = []\n",
    "    yM = []\n",
    "    \n",
    "    \n",
    "    for i in range(len(orbit2[0])):\n",
    "        xE.append(orbit2[0][i][0])\n",
    "        yE.append(orbit2[0][i][1])\n",
    "        xM.append(orbit2[1][i][0])\n",
    "        yM.append(orbit2[1][i][1])\n",
    "    o1 = plt.plot(xE,yE,color = \"red\",label = \"Earth\")\n",
    "    o2 = plt.plot(xM,yM,\"b--\",label = \"Moon\")\n",
    "    plt.xlabel(\"x (AU)\")\n",
    "    plt.ylabel(\"y (AU)\")\n",
    "    plt.legend()\n",
    "    plt.plot(r0[\"earth\"][0],r0[\"earth\"][1], \"r^\")\n",
    "    plt.grid()\n",
    "    plt.show()\n",
    "   \n",
    "    plt.savefig('orbit_earth_moon.png')\n"
   ]
  },
  {
   "cell_type": "code",
   "execution_count": null,
   "id": "e2494b7b",
   "metadata": {},
   "outputs": [],
   "source": []
  }
 ],
 "metadata": {
  "kernelspec": {
   "display_name": "Python 3 (ipykernel)",
   "language": "python",
   "name": "python3"
  },
  "language_info": {
   "codemirror_mode": {
    "name": "ipython",
    "version": 3
   },
   "file_extension": ".py",
   "mimetype": "text/x-python",
   "name": "python",
   "nbconvert_exporter": "python",
   "pygments_lexer": "ipython3",
   "version": "3.9.7"
  }
 },
 "nbformat": 4,
 "nbformat_minor": 5
}

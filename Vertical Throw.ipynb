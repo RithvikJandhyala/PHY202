{
 "cells": [
  {
   "cell_type": "code",
   "execution_count": 37,
   "id": "94471fae",
   "metadata": {},
   "outputs": [
    {
     "name": "stdout",
     "output_type": "stream",
     "text": [
      "Computed Positions: 33\n"
     ]
    }
   ],
   "source": [
    "#parameters\n",
    "y_ground = 0\n",
    "y0 = 2.\n",
    "v0 = 15.\n",
    "g = 9.81\n",
    "\n",
    "y_values = []\n",
    "t_values = []\n",
    "\n",
    "#initial conditions\n",
    "t = 0\n",
    "y = y0\n",
    "\n",
    "dt = 0.1 #change in seconds\n",
    "\n",
    "while y > y_ground:\n",
    "    y = -0.5*g*t**2 + v0*t + y0\n",
    "    y_values.append(y)\n",
    "    t_values.append(t)\n",
    "    t += dt\n",
    "print(\"Computed Positions:\",len(y_values))"
   ]
  },
  {
   "cell_type": "code",
   "execution_count": 38,
   "id": "4096dbd4",
   "metadata": {},
   "outputs": [
    {
     "data": {
      "text/plain": [
       "-0.22720000000002472"
      ]
     },
     "execution_count": 38,
     "metadata": {},
     "output_type": "execute_result"
    }
   ],
   "source": [
    "y"
   ]
  },
  {
   "cell_type": "code",
   "execution_count": 39,
   "id": "38c6dcc8",
   "metadata": {},
   "outputs": [
    {
     "data": {
      "text/plain": [
       "(3.3000000000000016, 3.2000000000000015)"
      ]
     },
     "execution_count": 39,
     "metadata": {},
     "output_type": "execute_result"
    }
   ],
   "source": [
    "t, t-dt"
   ]
  },
  {
   "cell_type": "code",
   "execution_count": 40,
   "id": "bb0e959c",
   "metadata": {},
   "outputs": [
    {
     "data": {
      "text/plain": [
       "[2.0,\n",
       " 3.4509499999999997,\n",
       " 4.8038,\n",
       " 6.05855,\n",
       " 7.215199999999999,\n",
       " 8.27375,\n",
       " 9.2342,\n",
       " 10.09655,\n",
       " 10.860799999999998,\n",
       " 11.52695,\n",
       " 12.094999999999999,\n",
       " 12.564949999999998,\n",
       " 12.9368,\n",
       " 13.21055,\n",
       " 13.3862,\n",
       " 13.46375,\n",
       " 13.4432,\n",
       " 13.324549999999999,\n",
       " 13.1078,\n",
       " 12.792949999999998,\n",
       " 12.379999999999999,\n",
       " 11.868949999999998,\n",
       " 11.259799999999995,\n",
       " 10.552549999999997,\n",
       " 9.747199999999992,\n",
       " 8.84374999999999,\n",
       " 7.842199999999984,\n",
       " 6.742549999999987,\n",
       " 5.544799999999981,\n",
       " 4.2489499999999865,\n",
       " 2.8549999999999827,\n",
       " 1.3629499999999766,\n",
       " -0.22720000000002472]"
      ]
     },
     "execution_count": 40,
     "metadata": {},
     "output_type": "execute_result"
    }
   ],
   "source": [
    "y_values"
   ]
  },
  {
   "cell_type": "code",
   "execution_count": 41,
   "id": "51df2f30",
   "metadata": {},
   "outputs": [
    {
     "data": {
      "text/plain": [
       "[0,\n",
       " 0.1,\n",
       " 0.2,\n",
       " 0.30000000000000004,\n",
       " 0.4,\n",
       " 0.5,\n",
       " 0.6,\n",
       " 0.7,\n",
       " 0.7999999999999999,\n",
       " 0.8999999999999999,\n",
       " 0.9999999999999999,\n",
       " 1.0999999999999999,\n",
       " 1.2,\n",
       " 1.3,\n",
       " 1.4000000000000001,\n",
       " 1.5000000000000002,\n",
       " 1.6000000000000003,\n",
       " 1.7000000000000004,\n",
       " 1.8000000000000005,\n",
       " 1.9000000000000006,\n",
       " 2.0000000000000004,\n",
       " 2.1000000000000005,\n",
       " 2.2000000000000006,\n",
       " 2.3000000000000007,\n",
       " 2.400000000000001,\n",
       " 2.500000000000001,\n",
       " 2.600000000000001,\n",
       " 2.700000000000001,\n",
       " 2.800000000000001,\n",
       " 2.9000000000000012,\n",
       " 3.0000000000000013,\n",
       " 3.1000000000000014,\n",
       " 3.2000000000000015]"
      ]
     },
     "execution_count": 41,
     "metadata": {},
     "output_type": "execute_result"
    }
   ],
   "source": [
    "t_values"
   ]
  },
  {
   "cell_type": "code",
   "execution_count": 42,
   "id": "8ae9aade",
   "metadata": {},
   "outputs": [],
   "source": [
    "import matplotlib.pyplot as plt\n",
    "%matplotlib inline"
   ]
  },
  {
   "cell_type": "code",
   "execution_count": 43,
   "id": "4c4b1b29",
   "metadata": {},
   "outputs": [
    {
     "data": {
      "text/plain": [
       "Text(0, 0.5, 'y position')"
      ]
     },
     "execution_count": 43,
     "metadata": {},
     "output_type": "execute_result"
    },
    {
     "data": {
      "image/png": "[encoded data removed]",
      "text/plain": [
       "<Figure size 432x288 with 1 Axes>"
      ]
     },
     "metadata": {
      "needs_background": "light"
     },
     "output_type": "display_data"
    }
   ],
   "source": [
    "plt.plot(t_values,y_values,'o-')\n",
    "plt.xlabel(\"t values\")\n",
    "plt.ylabel(\"y position\")"
   ]
  },
  {
   "cell_type": "code",
   "execution_count": null,
   "id": "5ebbf62f",
   "metadata": {},
   "outputs": [],
   "source": []
  }
 ],
 "metadata": {
  "kernelspec": {
   "display_name": "Python 3 (ipykernel)",
   "language": "python",
   "name": "python3"
  },
  "language_info": {
   "codemirror_mode": {
    "name": "ipython",
    "version": 3
   },
   "file_extension": ".py",
   "mimetype": "text/x-python",
   "name": "python",
   "nbconvert_exporter": "python",
   "pygments_lexer": "ipython3",
   "version": "3.9.7"
  }
 },
 "nbformat": 4,
 "nbformat_minor": 5
}
